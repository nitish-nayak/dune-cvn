{
  "cells": [
    {
      "cell_type": "code",
      "source": [
        "!git clone https://github.com/nitish-nayak/dune-cvn.git"
      ],
      "metadata": {
        "id": "wMJwxVk_KvNb",
        "outputId": "74cd04b6-3200-4d88-f1ea-67751d63725b",
        "colab": {
          "base_uri": "https://localhost:8080/"
        }
      },
      "id": "wMJwxVk_KvNb",
      "execution_count": 1,
      "outputs": [
        {
          "output_type": "stream",
          "name": "stdout",
          "text": [
            "Cloning into 'dune-cvn'...\n",
            "remote: Enumerating objects: 1444, done.\u001b[K\n",
            "remote: Counting objects: 100% (340/340), done.\u001b[K\n",
            "remote: Compressing objects: 100% (332/332), done.\u001b[K\n",
            "remote: Total 1444 (delta 10), reused 337 (delta 7), pack-reused 1104\u001b[K\n",
            "Receiving objects: 100% (1444/1444), 89.26 MiB | 16.13 MiB/s, done.\n",
            "Resolving deltas: 100% (60/60), done.\n",
            "Checking out files: 100% (339/339), done.\n"
          ]
        }
      ]
    },
    {
      "cell_type": "code",
      "source": [
        "%cd dune-cvn"
      ],
      "metadata": {
        "id": "a4bHyHa3K47k",
        "outputId": "c124c65d-36c8-4ad0-bb62-e833f537a773",
        "colab": {
          "base_uri": "https://localhost:8080/"
        }
      },
      "id": "a4bHyHa3K47k",
      "execution_count": 2,
      "outputs": [
        {
          "output_type": "stream",
          "name": "stdout",
          "text": [
            "/content/dune-cvn\n"
          ]
        }
      ]
    },
    {
      "cell_type": "code",
      "source": [
        "%ls"
      ],
      "metadata": {
        "id": "C0QpWypoK7lt",
        "outputId": "3f61856a-e816-4071-cefd-a7ff14d32669",
        "colab": {
          "base_uri": "https://localhost:8080/"
        }
      },
      "id": "C0QpWypoK7lt",
      "execution_count": 3,
      "outputs": [
        {
          "output_type": "stream",
          "name": "stdout",
          "text": [
            "\u001b[0m\u001b[01;34mdataset\u001b[0m/                LICENSE   README.md         test_dune_cvn.ipynb\n",
            "\u001b[01;34mdataset_highstats\u001b[0m/      \u001b[01;34mmodules\u001b[0m/  requirements.txt  test.py\n",
            "dune_cvn_nusteam.ipynb  \u001b[01;34moutput\u001b[0m/   \u001b[01;34msaved_model\u001b[0m/      utils.py\n"
          ]
        }
      ]
    },
    {
      "cell_type": "code",
      "execution_count": 4,
      "id": "9076ef58",
      "metadata": {
        "id": "9076ef58"
      },
      "outputs": [],
      "source": [
        "from utils import *"
      ]
    },
    {
      "cell_type": "code",
      "execution_count": 7,
      "id": "cd68f95f",
      "metadata": {
        "id": "cd68f95f"
      },
      "outputs": [],
      "source": [
        "# some useful variables for our code\n",
        "test_values = []\n",
        "TEST_PARAMS = {'batch_size':1, #batch size for network evaluation (model.predict)\n",
        "               'images_path':'dataset_highstats', # folder where all the images lie\n",
        "               'shuffle':False, # whether we want to shuffle the files (doesn't matter for us)\n",
        "               'test_values':test_values}"
      ]
    },
    {
      "cell_type": "code",
      "execution_count": 10,
      "id": "9e21a555",
      "metadata": {
        "id": "9e21a555"
      },
      "outputs": [],
      "source": [
        "# load dataset into IDs, labels\n",
        "def get_labels(flav):\n",
        "  print('Reading dataset from serialized file...')\n",
        "  filename = TEST_PARAMS['images_path']+'/'+flav+'/partition_'+flav+'.p'\n",
        "  with open(filename, 'rb') as partition_file:\n",
        "      labels = pk.load(partition_file)\n",
        "      IDs = list(labels.keys())\n",
        "  print('Loaded. Number of test examples for flavor %s : %d'%(flav,len(IDs)))\n",
        "  return IDs, labels"
      ]
    },
    {
      "cell_type": "code",
      "source": [
        "IDs, labels = get_labels('nue')"
      ],
      "metadata": {
        "id": "5m5-0ghOLZ39",
        "outputId": "0072d2bb-73f4-44bf-c44b-5eff21b9daeb",
        "colab": {
          "base_uri": "https://localhost:8080/"
        }
      },
      "id": "5m5-0ghOLZ39",
      "execution_count": 11,
      "outputs": [
        {
          "output_type": "stream",
          "name": "stdout",
          "text": [
            "Reading dataset from serialized file...\n",
            "Loaded. Number of test examples for flavor nue : 100\n"
          ]
        }
      ]
    },
    {
      "cell_type": "code",
      "execution_count": 12,
      "id": "45317575",
      "metadata": {
        "id": "45317575",
        "outputId": "eced283a-47a0-48de-f5d1-b92ae961c5b2",
        "colab": {
          "base_uri": "https://localhost:8080/"
        }
      },
      "outputs": [
        {
          "output_type": "stream",
          "name": "stdout",
          "text": [
            "['0', '1', '2', '3', '4', '5', '6', '7', '8', '9', '10', '11', '12', '13', '14', '15', '16', '17', '18', '19', '20', '21', '22', '23', '24', '25', '26', '27', '28', '29', '30', '31', '32', '33', '34', '35', '36', '37', '38', '39', '40', '41', '42', '43', '44', '45', '46', '47', '48', '49', '50', '51', '52', '53', '54', '55', '56', '57', '58', '59', '60', '61', '62', '63', '64', '65', '66', '67', '68', '69', '70', '71', '72', '73', '74', '75', '76', '77', '78', '79', '80', '81', '82', '83', '84', '85', '86', '87', '88', '89', '90', '91', '92', '93', '94', '95', '96', '97', '98', '99']\n"
          ]
        }
      ],
      "source": [
        "print(IDs) # list of strings (strings involve characters inside single quotes or double quotes)"
      ]
    },
    {
      "cell_type": "code",
      "execution_count": 13,
      "id": "d8a5d6f3",
      "metadata": {
        "id": "d8a5d6f3",
        "outputId": "d0e0de50-2412-46bb-ebcd-7d8d95f07000",
        "colab": {
          "base_uri": "https://localhost:8080/"
        }
      },
      "outputs": [
        {
          "output_type": "stream",
          "name": "stdout",
          "text": [
            "{'0': [0, 1, 2, 0, 0, 1, 3], '1': [0, 1, 3, 1, 0, 0, 1], '2': [0, 1, 2, 3, 1, 0, 3], '3': [1, 1, 2, 0, 1, 1, 1], '4': [0, 1, 2, 0, 1, 0, 1], '5': [0, 1, 0, 1, 0, 0, 1], '6': [0, 1, 2, 2, 0, 1, 2], '7': [0, 1, 2, 1, 1, 0, 1], '8': [0, 1, 1, 3, 0, 0, 3], '9': [0, 1, 1, 1, 1, 0, 0], '10': [0, 1, 2, 3, 0, 0, 0], '11': [0, 1, 1, 1, 0, 0, 1], '12': [0, 1, 0, 1, 0, 0, 0], '13': [0, 1, 3, 2, 0, 0, 0], '14': [0, 1, 2, 0, 3, 0, 2], '15': [0, 1, 2, 1, 1, 3, 0], '16': [0, 1, 2, 1, 3, 1, 3], '17': [0, 1, 2, 0, 1, 0, 3], '18': [0, 1, 2, 1, 2, 0, 0], '19': [0, 1, 0, 1, 0, 0, 0], '20': [0, 1, 1, 1, 0, 1, 1], '21': [0, 1, 2, 0, 0, 0, 1], '22': [0, 1, 2, 1, 3, 2, 2], '23': [0, 1, 1, 1, 1, 0, 0], '24': [0, 1, 0, 2, 0, 0, 0], '25': [0, 1, 3, 1, 0, 0, 3], '26': [0, 1, 1, 2, 0, 0, 1], '27': [0, 1, 1, 3, 0, 0, 3], '28': [0, 1, 2, 2, 3, 0, 2], '29': [0, 1, 2, 1, 1, 0, 0], '30': [0, 1, 1, 3, 0, 0, 3], '31': [0, 1, 3, 2, 0, 0, 0], '32': [0, 1, 3, 2, 0, 0, 0], '33': [0, 1, 0, 1, 0, 0, 1], '34': [0, 1, 2, 2, 2, 0, 1], '35': [0, 1, 0, 1, 0, 0, 0], '36': [0, 1, 2, 0, 1, 0, 2], '37': [0, 1, 0, 1, 0, 0, 0], '38': [0, 1, 2, 3, 3, 1, 0], '39': [0, 1, 2, 0, 1, 0, 1], '40': [0, 1, 2, 1, 1, 1, 1], '41': [0, 1, 2, 1, 1, 1, 0], '42': [0, 1, 1, 2, 0, 0, 1], '43': [0, 1, 2, 0, 1, 0, 1], '44': [1, 1, 2, 0, 0, 0, 1], '45': [0, 1, 0, 0, 0, 0, 0], '46': [0, 1, 1, 0, 0, 0, 0], '47': [0, 1, 1, 0, 1, 0, 2], '48': [0, 1, 1, 3, 0, 0, 1], '49': [0, 1, 1, 2, 1, 0, 1], '50': [0, 1, 2, 2, 1, 3, 0], '51': [0, 1, 1, 3, 2, 0, 1], '52': [0, 1, 1, 1, 1, 0, 0], '53': [0, 1, 1, 2, 0, 0, 0], '54': [0, 1, 2, 3, 1, 1, 3], '55': [0, 1, 2, 0, 3, 1, 1], '56': [0, 1, 1, 0, 1, 0, 3], '57': [0, 1, 0, 1, 0, 0, 0], '58': [1, 1, 3, 3, 0, 0, 1], '59': [0, 1, 0, 3, 0, 0, 2], '60': [0, 1, 2, 0, 0, 0, 0], '61': [0, 1, 1, 1, 1, 0, 0], '62': [0, 1, 0, 1, 0, 0, 0], '63': [1, 1, 2, 0, 1, 1, 0], '64': [0, 1, 0, 1, 0, 0, 3], '65': [0, 1, 1, 0, 1, 1, 1], '66': [0, 1, 0, 1, 0, 0, 1], '67': [0, 1, 2, 1, 1, 1, 1], '68': [0, 1, 1, 1, 1, 0, 2], '69': [0, 1, 2, 1, 2, 1, 1], '70': [0, 1, 2, 2, 0, 3, 3], '71': [0, 1, 1, 3, 0, 0, 1], '72': [0, 1, 2, 3, 0, 0, 2], '73': [0, 1, 2, 0, 1, 1, 3], '74': [0, 1, 3, 2, 0, 0, 1], '75': [0, 1, 1, 1, 0, 1, 0], '76': [0, 1, 0, 0, 0, 0, 1], '77': [0, 1, 2, 1, 0, 1, 0], '78': [0, 1, 2, 0, 1, 0, 1], '79': [0, 1, 1, 3, 0, 1, 3], '80': [0, 1, 0, 0, 0, 0, 1], '81': [0, 1, 0, 0, 1, 0, 2], '82': [0, 1, 2, 1, 3, 0, 1], '83': [0, 1, 2, 0, 1, 0, 1], '84': [0, 1, 3, 2, 0, 0, 1], '85': [0, 1, 2, 1, 2, 2, 0], '86': [0, 1, 1, 1, 1, 0, 1], '87': [0, 1, 2, 1, 2, 0, 1], '88': [0, 1, 3, 2, 0, 0, 0], '89': [0, 1, 2, 2, 1, 1, 1], '90': [0, 1, 0, 1, 0, 0, 0], '91': [0, 1, 2, 2, 0, 2, 1], '92': [0, 1, 2, 3, 1, 1, 3], '93': [0, 1, 0, 1, 0, 0, 0], '94': [0, 1, 2, 1, 0, 0, 0], '95': [0, 1, 2, 1, 1, 2, 3], '96': [0, 1, 1, 1, 0, 1, 1], '97': [0, 1, 3, 1, 0, 0, 0], '98': [0, 1, 2, 2, 0, 3, 1], '99': [0, 1, 1, 3, 0, 0, 0]}\n"
          ]
        }
      ],
      "source": [
        "print(labels) # dictionary which is an \"array\" of key, value pairs. we need this as a look-up table. "
      ]
    },
    {
      "cell_type": "code",
      "execution_count": null,
      "id": "202f7182",
      "metadata": {
        "id": "202f7182",
        "outputId": "faa2b463-67ff-4224-d930-a434bd70d274"
      },
      "outputs": [
        {
          "name": "stdout",
          "output_type": "stream",
          "text": [
            "[-1, 3, -1, 1, 1, 0, 0]\n"
          ]
        }
      ],
      "source": [
        "# lookup value for key = '1'\n",
        "print(labels['1'])"
      ]
    },
    {
      "cell_type": "code",
      "execution_count": 15,
      "id": "b84711c9",
      "metadata": {
        "id": "b84711c9"
      },
      "outputs": [],
      "source": [
        "import zlib\n",
        "# function -- give it some inputs (\"arguments\") and return an output\n",
        "# this function reads the .gz image file given an argument like '0' or '1' or '2' and so on\n",
        "def get_pixelmap(key, flav): # with a default value\n",
        "    path = TEST_PARAMS['images_path']+'/'+flav\n",
        "    with open(path+'/event'+key+'.gz', 'rb') as image_file:\n",
        "        pixels = np.fromstring(zlib.decompress(image_file.read()), dtype=np.uint8, sep='').reshape(3, 500, 500)\n",
        "        return pixels"
      ]
    },
    {
      "cell_type": "code",
      "execution_count": 16,
      "id": "c67b67ac",
      "metadata": {
        "id": "c67b67ac",
        "outputId": "a33a306e-17a7-43a2-c934-7cff7b6c8633",
        "colab": {
          "base_uri": "https://localhost:8080/"
        }
      },
      "outputs": [
        {
          "output_type": "stream",
          "name": "stderr",
          "text": [
            "/usr/local/lib/python3.7/dist-packages/ipykernel_launcher.py:7: DeprecationWarning: The binary mode of fromstring is deprecated, as it behaves surprisingly on unicode inputs. Use frombuffer instead\n",
            "  import sys\n"
          ]
        },
        {
          "output_type": "execute_result",
          "data": {
            "text/plain": [
              "array([[[0, 0, 0, ..., 0, 0, 0],\n",
              "        [0, 0, 0, ..., 0, 0, 0],\n",
              "        [0, 0, 0, ..., 0, 0, 0],\n",
              "        ...,\n",
              "        [0, 0, 0, ..., 0, 0, 0],\n",
              "        [0, 0, 0, ..., 0, 0, 0],\n",
              "        [0, 0, 0, ..., 0, 0, 0]],\n",
              "\n",
              "       [[0, 0, 0, ..., 0, 0, 0],\n",
              "        [0, 0, 0, ..., 0, 0, 0],\n",
              "        [0, 0, 0, ..., 0, 0, 0],\n",
              "        ...,\n",
              "        [0, 0, 0, ..., 0, 0, 0],\n",
              "        [0, 0, 0, ..., 0, 0, 0],\n",
              "        [0, 0, 0, ..., 0, 0, 0]],\n",
              "\n",
              "       [[0, 0, 0, ..., 0, 0, 0],\n",
              "        [0, 0, 0, ..., 0, 0, 0],\n",
              "        [0, 0, 0, ..., 0, 0, 0],\n",
              "        ...,\n",
              "        [0, 0, 0, ..., 0, 0, 0],\n",
              "        [0, 0, 0, ..., 0, 0, 0],\n",
              "        [0, 0, 0, ..., 0, 0, 0]]], dtype=uint8)"
            ]
          },
          "metadata": {},
          "execution_count": 16
        }
      ],
      "source": [
        "get_pixelmap('0', 'nue') # calling this function"
      ]
    },
    {
      "cell_type": "code",
      "execution_count": 17,
      "id": "d5c77c43",
      "metadata": {
        "id": "d5c77c43"
      },
      "outputs": [],
      "source": [
        "import matplotlib.pylab as plt\n",
        "\n",
        "# useful variable which we use in the code later on\n",
        "flav_keys=['numucc', 'nuecc', 'nutaucc', 'NC']\n",
        "# function meant to draw an image. Input here is the image that we obtain from the previous function get_pixelmap\n",
        "def draw_single_pm(pm):\n",
        "    fig, axs = plt.subplots(1, 3, figsize=(15, 10))\n",
        "    fig.suptitle('Pixel Maps')        \n",
        "    titles = ['U', 'V', 'Z']\n",
        "    for i in range(3):\n",
        "        maps = np.swapaxes(pm[i], 0, 1)\n",
        "        axs[i].imshow(maps, interpolation='none', cmap='cool')\n",
        "        axs[i].set_xlabel('Wire')\n",
        "        axs[i].set_ylabel('TDC')\n",
        "        axs[i].title.set_text(titles[i])\n",
        "    plt.show()"
      ]
    },
    {
      "cell_type": "code",
      "execution_count": 18,
      "id": "ebcb1784",
      "metadata": {
        "id": "ebcb1784"
      },
      "outputs": [],
      "source": [
        "# convert image from .gz file (3 images, 500x500 pixels) to some format that the neural network understands\n",
        "def convert_pm(pm):\n",
        "    views = len(pm)\n",
        "    planes = pm.shape[1]\n",
        "    cells = pm.shape[2]\n",
        "    \n",
        "    X = [None]*views\n",
        "    for view in range(views):\n",
        "        X[view] = np.zeros((1, planes, cells, 1), dtype='float32')\n",
        "    for view in range(views):\n",
        "        X[view][0, :, :, :] = pm[view, :, :].reshape(planes, cells, 1)\n",
        "    return X"
      ]
    },
    {
      "cell_type": "code",
      "execution_count": 19,
      "id": "8bc28304",
      "metadata": {
        "id": "8bc28304"
      },
      "outputs": [],
      "source": [
        "# loads the already trained neural network model for evaluation\n",
        "def get_model(print_model=False): \n",
        "    with open('saved_model/model.json', 'r') as json_file:\n",
        "        loaded_model_json = json_file.read()\n",
        "        model = model_from_json(loaded_model_json)\n",
        "        model.load_weights('saved_model/weights.h5')\n",
        "\n",
        "    if(print_model):\n",
        "        model.summary()\n",
        "    return model"
      ]
    },
    {
      "cell_type": "code",
      "execution_count": 20,
      "id": "fdacb295",
      "metadata": {
        "id": "fdacb295"
      },
      "outputs": [],
      "source": [
        "model = get_model() # get the neural network model"
      ]
    },
    {
      "cell_type": "code",
      "execution_count": 21,
      "id": "c568a8ce",
      "metadata": {
        "id": "c568a8ce"
      },
      "outputs": [],
      "source": [
        "# print results of network evaluation on input image\n",
        "def print_pminfo(pm, ID):\n",
        "    print('Results of network evaluation on pixel map')\n",
        "    scores = model.predict(convert_pm(pm))\n",
        "    flav_score = np.max(scores[1], axis=1)\n",
        "    flav_pred = np.argmax(scores[1], axis=1)\n",
        "    print('CVN score for pred label : %f, True Label : %s, Pred Label : %s'%\n",
        "      (flav_score[0], flav_keys[labels[ID][1]], flav_keys[flav_pred[0]]))\n",
        "    print('CVN score for true label : ', scores[1][0][labels[ID][1]])\n",
        "    print('All scores :', scores[1])\n",
        "\n",
        "# draw image and also print results of network evaluation\n",
        "# flip = True, False (to flip each image horizontally)\n",
        "# turnoff = 0, 1 or 2 (to turn off particular images before evaluation)\n",
        "def show_pminfo(key, flav, flip=False, turnoff=None):\n",
        "    \n",
        "    pm = get_pixelmap(key, flav)\n",
        "    print('shape of image : ', pm.shape)\n",
        "    print('Drawing pixel map')\n",
        "    pm2 = pm\n",
        "    if flip:\n",
        "        #pm2 = np.empty(pm.shape, dtype=np.uint8)\n",
        "        # flips the image\n",
        "        for view in range(3):\n",
        "            pm2[view] = np.flip(pm[view], axis=1)\n",
        "            \n",
        "    if turnoff is not None:\n",
        "        assert (turnoff < 3 and turnoff >= 0), \"turnoff can only be 0, 1 or 2\"\n",
        "        pm2[turnoff] = np.zeros(pm[turnoff].shape, dtype=np.uint8)\n",
        "\n",
        "    draw_single_pm(pm2)\n",
        "    print_pminfo(pm2, key)"
      ]
    },
    {
      "cell_type": "code",
      "execution_count": 123,
      "id": "d56b424d",
      "metadata": {
        "id": "d56b424d",
        "outputId": "f4e2041f-b534-47a7-c635-2a2bb120575e",
        "colab": {
          "base_uri": "https://localhost:8080/",
          "height": 692
        }
      },
      "outputs": [
        {
          "output_type": "stream",
          "name": "stderr",
          "text": [
            "/usr/local/lib/python3.7/dist-packages/ipykernel_launcher.py:7: DeprecationWarning: The binary mode of fromstring is deprecated, as it behaves surprisingly on unicode inputs. Use frombuffer instead\n",
            "  import sys\n"
          ]
        },
        {
          "output_type": "stream",
          "name": "stdout",
          "text": [
            "shape of image :  (3, 500, 500)\n",
            "Drawing pixel map\n"
          ]
        },
        {
          "output_type": "display_data",
          "data": {
            "text/plain": [
              "<Figure size 1080x720 with 3 Axes>"
            ],
            "image/png": "[encoded data removed]"
          },
          "metadata": {
            "needs_background": "light"
          }
        },
        {
          "output_type": "stream",
          "name": "stdout",
          "text": [
            "Results of network evaluation on pixel map\n",
            "CVN score for pred label : 0.805564, True Label : nuecc, Pred Label : nuecc\n",
            "CVN score for true label :  0.8055639\n",
            "All scores : [[0.02204059 0.8055639  0.13596834 0.0364271 ]]\n"
          ]
        }
      ],
      "source": [
        "show_pminfo('15', 'nue')"
      ]
    },
    {
      "cell_type": "code",
      "source": [
        "def get_pred(key, flav_event):\n",
        "    pm = get_pixelmap(key, flav_event)\n",
        "    scores = model.predict(convert_pm(pm))\n",
        "    flav_pred = np.argmax(scores[1], axis=1)[0]\n",
        "\n",
        "    return flav_pred\n",
        "\n",
        "def get_flav_score(key, flav, flav_event):\n",
        "    tags = np.array(['numu', 'nue', 'nutau', 'nc'])\n",
        "    pm = get_pixelmap(key, flav_event)\n",
        "    scores = model.predict(convert_pm(pm))\n",
        "    flav_score = scores[1][0][np.where(tags == flav)[0][0]]\n",
        "\n",
        "    return flav_score"
      ],
      "metadata": {
        "id": "kivrImAaMKTj"
      },
      "id": "kivrImAaMKTj",
      "execution_count": 63,
      "outputs": []
    },
    {
      "cell_type": "code",
      "source": [
        "confusion_mat = np.zeros((3,3), dtype=np.uint8)\n",
        "tags = ['numu', 'nue', 'nc']\n",
        "for f in range(3):\n",
        "  for i in range(100):\n",
        "    flav_pred = get_pred(str(i), tags[f])\n",
        "    if(flav_pred == 2) : continue\n",
        "    if(flav_pred == 3) : flav_pred = 2\n",
        "    confusion_mat[f][flav_pred] += 1"
      ],
      "metadata": {
        "id": "3s1ttutOQX35",
        "outputId": "f803918d-7d32-4213-b210-47ee30c48d8d",
        "colab": {
          "base_uri": "https://localhost:8080/"
        }
      },
      "id": "3s1ttutOQX35",
      "execution_count": 66,
      "outputs": [
        {
          "output_type": "stream",
          "name": "stderr",
          "text": [
            "/usr/local/lib/python3.7/dist-packages/ipykernel_launcher.py:7: DeprecationWarning: The binary mode of fromstring is deprecated, as it behaves surprisingly on unicode inputs. Use frombuffer instead\n",
            "  import sys\n"
          ]
        }
      ]
    },
    {
      "cell_type": "code",
      "source": [
        "print(confusion_mat)"
      ],
      "metadata": {
        "id": "1MWZkRdGQ4U9",
        "outputId": "9b7ac6d0-8601-4ae8-a97d-5b3fdc079e8d",
        "colab": {
          "base_uri": "https://localhost:8080/"
        }
      },
      "id": "1MWZkRdGQ4U9",
      "execution_count": 67,
      "outputs": [
        {
          "output_type": "stream",
          "name": "stdout",
          "text": [
            "[[95  1  4]\n",
            " [ 0 98  2]\n",
            " [ 3  4 90]]\n"
          ]
        }
      ]
    },
    {
      "cell_type": "code",
      "source": [
        "eff_mat = confusion_mat/confusion_mat.sum(axis=1,keepdims=True)\n",
        "print(eff_mat)"
      ],
      "metadata": {
        "id": "lbU5E-d5Q5zt",
        "outputId": "d6161ead-41ee-49a7-f46b-7c9c7a21e4af",
        "colab": {
          "base_uri": "https://localhost:8080/"
        }
      },
      "id": "lbU5E-d5Q5zt",
      "execution_count": 73,
      "outputs": [
        {
          "output_type": "stream",
          "name": "stdout",
          "text": [
            "[[0.95       0.01       0.04      ]\n",
            " [0.         0.98       0.02      ]\n",
            " [0.03092784 0.04123711 0.92783505]]\n"
          ]
        }
      ]
    },
    {
      "cell_type": "code",
      "source": [
        "pur_mat = confusion_mat/confusion_mat.sum(axis=0,keepdims=True)\n",
        "print(pur_mat)"
      ],
      "metadata": {
        "id": "QJH9CJ3UUOln",
        "outputId": "9816d19c-f729-4ffb-ca7f-d2d109721141",
        "colab": {
          "base_uri": "https://localhost:8080/"
        }
      },
      "id": "QJH9CJ3UUOln",
      "execution_count": 74,
      "outputs": [
        {
          "output_type": "stream",
          "name": "stdout",
          "text": [
            "[[0.96938776 0.00970874 0.04166667]\n",
            " [0.         0.95145631 0.02083333]\n",
            " [0.03061224 0.03883495 0.9375    ]]\n"
          ]
        }
      ]
    },
    {
      "cell_type": "code",
      "source": [
        "fig, ax = plt.subplots(figsize=(10, 10))\n",
        "im = ax.imshow(eff_mat, interpolation=None)\n",
        "\n",
        "ax.set_xticks(np.arange(len(tags)))\n",
        "ax.set_xticklabels(tags)\n",
        "ax.set_ylabel('True Label')\n",
        "ax.set_xlabel('Pred Label')\n",
        "ax.set_yticks(np.arange(len(tags)))\n",
        "ax.set_yticklabels(tags)\n",
        "for i in range(len(tags)):\n",
        "  for j in range(len(tags)):\n",
        "    text = ax.text(j, i, round(eff_mat[i, j], 2), ha='center', va='center', color='r')\n",
        "\n",
        "plt.title('Efficiency by Label')\n",
        "plt.show()"
      ],
      "metadata": {
        "id": "AJlP4BkPU3Fn",
        "outputId": "e16f2a91-f141-4b92-d6b5-13e623dc8adf",
        "colab": {
          "base_uri": "https://localhost:8080/",
          "height": 621
        }
      },
      "id": "AJlP4BkPU3Fn",
      "execution_count": 95,
      "outputs": [
        {
          "output_type": "display_data",
          "data": {
            "text/plain": [
              "<Figure size 720x720 with 1 Axes>"
            ],
            "image/png": "[encoded data removed]"
          },
          "metadata": {
            "needs_background": "light"
          }
        }
      ]
    },
    {
      "cell_type": "code",
      "source": [
        "fig, ax = plt.subplots(figsize=(10, 10))\n",
        "im = ax.imshow(pur_mat, interpolation=None)\n",
        "\n",
        "ax.set_xticks(np.arange(len(tags)))\n",
        "ax.set_xticklabels(tags)\n",
        "ax.set_ylabel('True Label')\n",
        "ax.set_xlabel('Pred Label')\n",
        "ax.set_yticks(np.arange(len(tags)))\n",
        "ax.set_yticklabels(tags)\n",
        "for i in range(len(tags)):\n",
        "  for j in range(len(tags)):\n",
        "    text = ax.text(j, i, round(pur_mat[i, j], 2), ha='center', va='center', color='r')\n",
        "\n",
        "plt.title('Purity by Label')\n",
        "plt.show()"
      ],
      "metadata": {
        "id": "r3rjzhxoW1kW",
        "outputId": "d4b2e055-51be-48f8-b138-2dfe6b57784d",
        "colab": {
          "base_uri": "https://localhost:8080/",
          "height": 621
        }
      },
      "id": "r3rjzhxoW1kW",
      "execution_count": 94,
      "outputs": [
        {
          "output_type": "display_data",
          "data": {
            "text/plain": [
              "<Figure size 720x720 with 1 Axes>"
            ],
            "image/png": "[encoded data removed]"
          },
          "metadata": {
            "needs_background": "light"
          }
        }
      ]
    },
    {
      "cell_type": "code",
      "source": [
        "sig_scores = []\n",
        "numu_scores = []\n",
        "nc_scores = []\n",
        "tags = ['numu', 'nue', 'nc']\n",
        "for f in range(3):\n",
        "  for i in range(100):\n",
        "    flav_score = get_flav_score(str(i), 'nue', tags[f])\n",
        "    if(f == 1): sig_scores.append(flav_score)\n",
        "    if(f == 0): numu_scores.append(flav_score)\n",
        "    if(f == 2): nc_scores.append(flav_score)"
      ],
      "metadata": {
        "id": "6ZH2ECMKYpyS",
        "outputId": "c221d6c2-682b-4f41-e6e0-dad0ea75ea2a",
        "colab": {
          "base_uri": "https://localhost:8080/"
        }
      },
      "id": "6ZH2ECMKYpyS",
      "execution_count": 97,
      "outputs": [
        {
          "output_type": "stream",
          "name": "stderr",
          "text": [
            "/usr/local/lib/python3.7/dist-packages/ipykernel_launcher.py:7: DeprecationWarning: The binary mode of fromstring is deprecated, as it behaves surprisingly on unicode inputs. Use frombuffer instead\n",
            "  import sys\n"
          ]
        }
      ]
    },
    {
      "cell_type": "code",
      "source": [
        "b = np.arange(0, 1.05, 0.05)\n",
        "fig, ax = plt.subplots(figsize=(10, 10))\n",
        "ax.hist(np.array(sig_scores), bins=b, histtype='step',color='red',linestyle='solid',label='Signal nueCC')\n",
        "ax.hist(np.array(numu_scores), bins=b, histtype='step',color='blue',linestyle='solid',label='NumuCC Bkg')\n",
        "ax.hist(np.array(nc_scores), bins=b, histtype='step',color='green',linestyle='solid',label='NC Bkg')\n",
        "ax.hist(np.array(nc_scores+numu_scores), bins=b, histtype='step',color='black',linestyle='solid',label='Total Bkg')\n",
        "ax.legend(loc='best')\n",
        "ax.set_ylabel('Events')\n",
        "ax.set_xlabel('CNN Score')\n",
        "plt.show()"
      ],
      "metadata": {
        "id": "nDmaBJjSbGAf",
        "outputId": "1fd8bc38-8729-462e-d12b-75926939c9c4",
        "colab": {
          "base_uri": "https://localhost:8080/",
          "height": 606
        }
      },
      "id": "nDmaBJjSbGAf",
      "execution_count": 111,
      "outputs": [
        {
          "output_type": "display_data",
          "data": {
            "text/plain": [
              "<Figure size 720x720 with 1 Axes>"
            ],
            "image/png": "[encoded data removed]"
          },
          "metadata": {
            "needs_background": "light"
          }
        }
      ]
    },
    {
      "cell_type": "code",
      "source": [
        "from sklearn.metrics import roc_curve\n",
        "from sklearn.metrics import roc_auc_score\n",
        "\n",
        "lr_fpr, lr_tpr, _ = roc_curve(200*[0] + 100*[1], numu_scores+nc_scores+sig_scores)\n",
        "ns_fpr, ns_tpr, _ = roc_curve(200*[0] + 100*[1], 300*[1])\n",
        "fig, ax = plt.subplots(figsize=(10, 10))\n",
        "ax.plot(lr_fpr, lr_tpr, marker='.', label='CNN for NueCC')\n",
        "ax.plot(ns_fpr, ns_tpr, marker='.', label='No Skill')\n",
        "ax.legend(loc='best')\n",
        "ax.set_title('ROC Curve')\n",
        "ax.set_xlabel('Signal Efficiency')\n",
        "ax.set_ylabel('Background Efficiency')\n",
        "plt.show()\n",
        "lr_auc = roc_auc_score(200*[0] + 100*[1], numu_scores+nc_scores+sig_scores)\n",
        "ns_auc = roc_auc_score(200*[0] + 100*[1], 300*[1])\n",
        "print('AUC scores for (CNN, No Skill) : %0.03f, %0.03f'%(lr_auc, ns_auc))"
      ],
      "metadata": {
        "id": "mb65ZyTccHJT",
        "outputId": "0c1177bb-1aa0-4873-9206-ceaee8fb845b",
        "colab": {
          "base_uri": "https://localhost:8080/",
          "height": 639
        }
      },
      "id": "mb65ZyTccHJT",
      "execution_count": 122,
      "outputs": [
        {
          "output_type": "display_data",
          "data": {
            "text/plain": [
              "<Figure size 720x720 with 1 Axes>"
            ],
            "image/png": "[encoded data removed]"
          },
          "metadata": {
            "needs_background": "light"
          }
        },
        {
          "output_type": "stream",
          "name": "stdout",
          "text": [
            "AUC scores for (CNN, No Skill) : 0.998, 0.500\n"
          ]
        }
      ]
    },
    {
      "cell_type": "code",
      "source": [
        ""
      ],
      "metadata": {
        "id": "KheNfWdLeISa"
      },
      "id": "KheNfWdLeISa",
      "execution_count": null,
      "outputs": []
    }
  ],
  "metadata": {
    "kernelspec": {
      "display_name": "Python 3 (ipykernel)",
      "language": "python",
      "name": "python3"
    },
    "language_info": {
      "codemirror_mode": {
        "name": "ipython",
        "version": 3
      },
      "file_extension": ".py",
      "mimetype": "text/x-python",
      "name": "python",
      "nbconvert_exporter": "python",
      "pygments_lexer": "ipython3",
      "version": "3.7.13"
    },
    "colab": {
      "name": "dune_cvn_nusteam.ipynb",
      "provenance": []
    }
  },
  "nbformat": 4,
  "nbformat_minor": 5
}