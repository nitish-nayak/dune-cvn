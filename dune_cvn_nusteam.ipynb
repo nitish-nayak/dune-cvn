{
  "cells": [
    {
      "cell_type": "code",
      "source": [
        "!git clone https://github.com/nitish-nayak/dune-cvn.git"
      ],
      "metadata": {
        "id": "wMJwxVk_KvNb",
        "outputId": "33440ca4-178b-4d2d-fe18-fb36ea3643cc",
        "colab": {
          "base_uri": "https://localhost:8080/"
        }
      },
      "id": "wMJwxVk_KvNb",
      "execution_count": 2,
      "outputs": [
        {
          "output_type": "stream",
          "name": "stdout",
          "text": [
            "Cloning into 'dune-cvn'...\n",
            "remote: Enumerating objects: 1447, done.\u001b[K\n",
            "remote: Counting objects: 100% (343/343), done.\u001b[K\n",
            "remote: Compressing objects: 100% (335/335), done.\u001b[K\n",
            "remote: Total 1447 (delta 11), reused 339 (delta 7), pack-reused 1104\u001b[K\n",
            "Receiving objects: 100% (1447/1447), 89.34 MiB | 21.25 MiB/s, done.\n",
            "Resolving deltas: 100% (61/61), done.\n",
            "Checking out files: 100% (339/339), done.\n"
          ]
        }
      ]
    },
    {
      "cell_type": "code",
      "source": [
        "%cd dune-cvn"
      ],
      "metadata": {
        "id": "a4bHyHa3K47k",
        "outputId": "4b94cb07-2d0f-4a4f-8206-c02e8fb9c24f",
        "colab": {
          "base_uri": "https://localhost:8080/"
        }
      },
      "id": "a4bHyHa3K47k",
      "execution_count": 3,
      "outputs": [
        {
          "output_type": "stream",
          "name": "stdout",
          "text": [
            "/content/dune-cvn\n"
          ]
        }
      ]
    },
    {
      "cell_type": "code",
      "source": [
        "%ls"
      ],
      "metadata": {
        "id": "C0QpWypoK7lt",
        "outputId": "563a169b-5a30-4a38-9108-9c5978ff00dc",
        "colab": {
          "base_uri": "https://localhost:8080/"
        }
      },
      "id": "C0QpWypoK7lt",
      "execution_count": 4,
      "outputs": [
        {
          "output_type": "stream",
          "name": "stdout",
          "text": [
            "\u001b[0m\u001b[01;34mdataset\u001b[0m/                LICENSE   README.md         test_dune_cvn.ipynb\n",
            "\u001b[01;34mdataset_highstats\u001b[0m/      \u001b[01;34mmodules\u001b[0m/  requirements.txt  test.py\n",
            "dune_cvn_nusteam.ipynb  \u001b[01;34moutput\u001b[0m/   \u001b[01;34msaved_model\u001b[0m/      utils.py\n"
          ]
        }
      ]
    },
    {
      "cell_type": "markdown",
      "source": [
        "The `dataset` folder contains 20 events in .gz files. Each .gz file is a compressed binary made up of three 500x500 images for the DUNE HD design, with 2 induction planes and 1 collection plane. \n",
        "\n",
        "There's also a `dataset_highstats` folder which we will use here that contains 100 events for each of `nueCC`, `numuCC` and `NC`, in the same .gz format\n",
        "\n",
        "To access the truth labels for these events, we will need to read in pickle (`.p`) files. "
      ],
      "metadata": {
        "id": "TIkxZXPLKNq-"
      },
      "id": "TIkxZXPLKNq-"
    },
    {
      "cell_type": "code",
      "source": [
        "# import some useful modules\n",
        "!cat utils.py\n",
        "from utils import *"
      ],
      "metadata": {
        "id": "j2eF4glzJ40c",
        "outputId": "5ef30281-b42b-46cb-ea23-3095c13ed42e",
        "colab": {
          "base_uri": "https://localhost:8080/"
        }
      },
      "id": "j2eF4glzJ40c",
      "execution_count": 7,
      "outputs": [
        {
          "output_type": "stream",
          "name": "stdout",
          "text": [
            "\"\"\"\n",
            "DUNE CVN test module.\n",
            "\"\"\"\n",
            "__version__ = '1.0'\n",
            "__author__ = 'Saul Alonso-Monsalve, Leigh Howard Whitehead'\n",
            "__email__ = \"saul.alonso.monsalve@cern.ch, leigh.howard.whitehead@cern.ch\"\n",
            "\n",
            "import shutil\n",
            "import numpy as np\n",
            "import pickle as pk\n",
            "import sys\n",
            "import os\n",
            "\n",
            "sys.path.append(os.path.join(sys.path[0], 'modules'))\n",
            "\n",
            "from tensorflow.keras.models import model_from_json\n",
            "from sklearn.metrics import classification_report, confusion_matrix\n",
            "from data_generator import DataGenerator\n",
            "from opts import get_args\n",
            "from keras.models import load_model\n",
            "import my_losses\n",
            "from dune_cvn import CustomTrainStep\n",
            "\n",
            "# manually specify the GPUs to use\n",
            "os.environ[\"CUDA_DEVICE_ORDER\"]=\"PCI_BUS_ID\"\n",
            "os.environ[\"CUDA_VISIBLE_DEVICES\"]=\"0\"\n",
            "\n"
          ]
        }
      ]
    },
    {
      "cell_type": "code",
      "execution_count": 9,
      "id": "cd68f95f",
      "metadata": {
        "id": "cd68f95f"
      },
      "outputs": [],
      "source": [
        "# some useful variables for our code\n",
        "test_values = []\n",
        "TEST_PARAMS = {'batch_size':1, #batch size for network evaluation (model.predict)\n",
        "               'images_path':'dataset_highstats', # folder where all the images lie\n",
        "               'shuffle':False, # whether we want to shuffle the files (doesn't matter for us, since we're just evaluating them one by one)\n",
        "               'test_values':test_values}"
      ]
    },
    {
      "cell_type": "markdown",
      "source": [
        "Here, we'll load the truth labels from the `.p` files. "
      ],
      "metadata": {
        "id": "EcO3h4w5LFwP"
      },
      "id": "EcO3h4w5LFwP"
    },
    {
      "cell_type": "code",
      "execution_count": 10,
      "id": "9e21a555",
      "metadata": {
        "id": "9e21a555"
      },
      "outputs": [],
      "source": [
        "# load dataset into IDs, labels \n",
        "def get_labels(flav):\n",
        "  print('Reading dataset from serialized file...')\n",
        "  filename = TEST_PARAMS['images_path']+'/'+flav+'/partition_'+flav+'.p'\n",
        "  with open(filename, 'rb') as partition_file:\n",
        "      labels = pk.load(partition_file)\n",
        "      IDs = list(labels.keys())\n",
        "  print('Loaded. Number of test examples for flavor %s : %d'%(flav,len(IDs)))\n",
        "  return IDs, labels"
      ]
    },
    {
      "cell_type": "code",
      "source": [
        "IDs, labels = get_labels('nue') # load pickle file for nueCC events"
      ],
      "metadata": {
        "id": "5m5-0ghOLZ39",
        "outputId": "19aa8f1e-ae2d-4596-fd3b-d794973e9920",
        "colab": {
          "base_uri": "https://localhost:8080/"
        }
      },
      "id": "5m5-0ghOLZ39",
      "execution_count": 11,
      "outputs": [
        {
          "output_type": "stream",
          "name": "stdout",
          "text": [
            "Reading dataset from serialized file...\n",
            "Loaded. Number of test examples for flavor nue : 100\n"
          ]
        }
      ]
    },
    {
      "cell_type": "code",
      "execution_count": 12,
      "id": "45317575",
      "metadata": {
        "id": "45317575",
        "outputId": "c5704834-9d02-4c5c-d4ec-49ff323fda2a",
        "colab": {
          "base_uri": "https://localhost:8080/"
        }
      },
      "outputs": [
        {
          "output_type": "stream",
          "name": "stdout",
          "text": [
            "['0', '1', '2', '3', '4', '5', '6', '7', '8', '9', '10', '11', '12', '13', '14', '15', '16', '17', '18', '19', '20', '21', '22', '23', '24', '25', '26', '27', '28', '29', '30', '31', '32', '33', '34', '35', '36', '37', '38', '39', '40', '41', '42', '43', '44', '45', '46', '47', '48', '49', '50', '51', '52', '53', '54', '55', '56', '57', '58', '59', '60', '61', '62', '63', '64', '65', '66', '67', '68', '69', '70', '71', '72', '73', '74', '75', '76', '77', '78', '79', '80', '81', '82', '83', '84', '85', '86', '87', '88', '89', '90', '91', '92', '93', '94', '95', '96', '97', '98', '99']\n"
          ]
        }
      ],
      "source": [
        "print(IDs) # list of strings (strings involve characters inside single quotes or double quotes)"
      ]
    },
    {
      "cell_type": "code",
      "execution_count": 13,
      "id": "d8a5d6f3",
      "metadata": {
        "id": "d8a5d6f3",
        "outputId": "05f3702a-424e-41cb-f15b-3f2e4dba8712",
        "colab": {
          "base_uri": "https://localhost:8080/"
        }
      },
      "outputs": [
        {
          "output_type": "stream",
          "name": "stdout",
          "text": [
            "{'0': [0, 1, 2, 0, 0, 1, 3], '1': [0, 1, 3, 1, 0, 0, 1], '2': [0, 1, 2, 3, 1, 0, 3], '3': [1, 1, 2, 0, 1, 1, 1], '4': [0, 1, 2, 0, 1, 0, 1], '5': [0, 1, 0, 1, 0, 0, 1], '6': [0, 1, 2, 2, 0, 1, 2], '7': [0, 1, 2, 1, 1, 0, 1], '8': [0, 1, 1, 3, 0, 0, 3], '9': [0, 1, 1, 1, 1, 0, 0], '10': [0, 1, 2, 3, 0, 0, 0], '11': [0, 1, 1, 1, 0, 0, 1], '12': [0, 1, 0, 1, 0, 0, 0], '13': [0, 1, 3, 2, 0, 0, 0], '14': [0, 1, 2, 0, 3, 0, 2], '15': [0, 1, 2, 1, 1, 3, 0], '16': [0, 1, 2, 1, 3, 1, 3], '17': [0, 1, 2, 0, 1, 0, 3], '18': [0, 1, 2, 1, 2, 0, 0], '19': [0, 1, 0, 1, 0, 0, 0], '20': [0, 1, 1, 1, 0, 1, 1], '21': [0, 1, 2, 0, 0, 0, 1], '22': [0, 1, 2, 1, 3, 2, 2], '23': [0, 1, 1, 1, 1, 0, 0], '24': [0, 1, 0, 2, 0, 0, 0], '25': [0, 1, 3, 1, 0, 0, 3], '26': [0, 1, 1, 2, 0, 0, 1], '27': [0, 1, 1, 3, 0, 0, 3], '28': [0, 1, 2, 2, 3, 0, 2], '29': [0, 1, 2, 1, 1, 0, 0], '30': [0, 1, 1, 3, 0, 0, 3], '31': [0, 1, 3, 2, 0, 0, 0], '32': [0, 1, 3, 2, 0, 0, 0], '33': [0, 1, 0, 1, 0, 0, 1], '34': [0, 1, 2, 2, 2, 0, 1], '35': [0, 1, 0, 1, 0, 0, 0], '36': [0, 1, 2, 0, 1, 0, 2], '37': [0, 1, 0, 1, 0, 0, 0], '38': [0, 1, 2, 3, 3, 1, 0], '39': [0, 1, 2, 0, 1, 0, 1], '40': [0, 1, 2, 1, 1, 1, 1], '41': [0, 1, 2, 1, 1, 1, 0], '42': [0, 1, 1, 2, 0, 0, 1], '43': [0, 1, 2, 0, 1, 0, 1], '44': [1, 1, 2, 0, 0, 0, 1], '45': [0, 1, 0, 0, 0, 0, 0], '46': [0, 1, 1, 0, 0, 0, 0], '47': [0, 1, 1, 0, 1, 0, 2], '48': [0, 1, 1, 3, 0, 0, 1], '49': [0, 1, 1, 2, 1, 0, 1], '50': [0, 1, 2, 2, 1, 3, 0], '51': [0, 1, 1, 3, 2, 0, 1], '52': [0, 1, 1, 1, 1, 0, 0], '53': [0, 1, 1, 2, 0, 0, 0], '54': [0, 1, 2, 3, 1, 1, 3], '55': [0, 1, 2, 0, 3, 1, 1], '56': [0, 1, 1, 0, 1, 0, 3], '57': [0, 1, 0, 1, 0, 0, 0], '58': [1, 1, 3, 3, 0, 0, 1], '59': [0, 1, 0, 3, 0, 0, 2], '60': [0, 1, 2, 0, 0, 0, 0], '61': [0, 1, 1, 1, 1, 0, 0], '62': [0, 1, 0, 1, 0, 0, 0], '63': [1, 1, 2, 0, 1, 1, 0], '64': [0, 1, 0, 1, 0, 0, 3], '65': [0, 1, 1, 0, 1, 1, 1], '66': [0, 1, 0, 1, 0, 0, 1], '67': [0, 1, 2, 1, 1, 1, 1], '68': [0, 1, 1, 1, 1, 0, 2], '69': [0, 1, 2, 1, 2, 1, 1], '70': [0, 1, 2, 2, 0, 3, 3], '71': [0, 1, 1, 3, 0, 0, 1], '72': [0, 1, 2, 3, 0, 0, 2], '73': [0, 1, 2, 0, 1, 1, 3], '74': [0, 1, 3, 2, 0, 0, 1], '75': [0, 1, 1, 1, 0, 1, 0], '76': [0, 1, 0, 0, 0, 0, 1], '77': [0, 1, 2, 1, 0, 1, 0], '78': [0, 1, 2, 0, 1, 0, 1], '79': [0, 1, 1, 3, 0, 1, 3], '80': [0, 1, 0, 0, 0, 0, 1], '81': [0, 1, 0, 0, 1, 0, 2], '82': [0, 1, 2, 1, 3, 0, 1], '83': [0, 1, 2, 0, 1, 0, 1], '84': [0, 1, 3, 2, 0, 0, 1], '85': [0, 1, 2, 1, 2, 2, 0], '86': [0, 1, 1, 1, 1, 0, 1], '87': [0, 1, 2, 1, 2, 0, 1], '88': [0, 1, 3, 2, 0, 0, 0], '89': [0, 1, 2, 2, 1, 1, 1], '90': [0, 1, 0, 1, 0, 0, 0], '91': [0, 1, 2, 2, 0, 2, 1], '92': [0, 1, 2, 3, 1, 1, 3], '93': [0, 1, 0, 1, 0, 0, 0], '94': [0, 1, 2, 1, 0, 0, 0], '95': [0, 1, 2, 1, 1, 2, 3], '96': [0, 1, 1, 1, 0, 1, 1], '97': [0, 1, 3, 1, 0, 0, 0], '98': [0, 1, 2, 2, 0, 3, 1], '99': [0, 1, 1, 3, 0, 0, 0]}\n"
          ]
        }
      ],
      "source": [
        "print(labels) # dictionary which is an \"array\" of key, value pairs. we need this as a look-up table. "
      ]
    },
    {
      "cell_type": "code",
      "execution_count": 14,
      "id": "202f7182",
      "metadata": {
        "id": "202f7182",
        "outputId": "eac6b914-3b52-490b-d0e2-21df4f38ea36",
        "colab": {
          "base_uri": "https://localhost:8080/"
        }
      },
      "outputs": [
        {
          "output_type": "stream",
          "name": "stdout",
          "text": [
            "[0, 1, 3, 1, 0, 0, 1]\n"
          ]
        }
      ],
      "source": [
        "# lookup value for key = '1'\n",
        "print(labels['1'])"
      ]
    },
    {
      "cell_type": "markdown",
      "source": [
        "`labels` is a dictionary that contains the truth information for each event indexed by keys `'0' - '99'`. Remember the CNN has been trained to predict a bunch of information about the topology and not just the flavor. We will only focus on the flavor tagging aspect for now, which is given by the second element of the list"
      ],
      "metadata": {
        "id": "zznljElBLUrK"
      },
      "id": "zznljElBLUrK"
    },
    {
      "cell_type": "code",
      "source": [
        "print(labels['1'][1])"
      ],
      "metadata": {
        "id": "H6O5-zfRLwgQ",
        "outputId": "2d28f41e-021d-487a-f8ca-4b67c9ae33b9",
        "colab": {
          "base_uri": "https://localhost:8080/"
        }
      },
      "id": "H6O5-zfRLwgQ",
      "execution_count": 19,
      "outputs": [
        {
          "output_type": "stream",
          "name": "stdout",
          "text": [
            "1\n"
          ]
        }
      ]
    },
    {
      "cell_type": "markdown",
      "source": [
        "The second element is enumerated as: \n",
        "\n",
        "\n",
        "*   0 - numuCC\n",
        "*   1 - nueCC\n",
        "*   2 - nutauCC\n",
        "*   3 - NC\n",
        "\n",
        "\n",
        "\n"
      ],
      "metadata": {
        "id": "CHqMwoyvL7U9"
      },
      "id": "CHqMwoyvL7U9"
    },
    {
      "cell_type": "code",
      "execution_count": 20,
      "id": "b84711c9",
      "metadata": {
        "id": "b84711c9"
      },
      "outputs": [],
      "source": [
        "import zlib\n",
        "# this function reads the .gz image file given an argument like '0' or '1' or '2' and so on\n",
        "def get_pixelmap(key, flav): # with a default value\n",
        "    path = TEST_PARAMS['images_path']+'/'+flav\n",
        "    with open(path+'/event'+key+'.gz', 'rb') as image_file:\n",
        "        pixels = np.fromstring(zlib.decompress(image_file.read()), dtype=np.uint8, sep='').reshape(3, 500, 500)\n",
        "        return pixels"
      ]
    },
    {
      "cell_type": "code",
      "execution_count": 21,
      "id": "c67b67ac",
      "metadata": {
        "id": "c67b67ac",
        "outputId": "cc196f55-ffc1-409f-c991-ced1e26aa5aa",
        "colab": {
          "base_uri": "https://localhost:8080/"
        }
      },
      "outputs": [
        {
          "output_type": "stream",
          "name": "stderr",
          "text": [
            "/usr/local/lib/python3.7/dist-packages/ipykernel_launcher.py:6: DeprecationWarning: The binary mode of fromstring is deprecated, as it behaves surprisingly on unicode inputs. Use frombuffer instead\n",
            "  \n"
          ]
        },
        {
          "output_type": "execute_result",
          "data": {
            "text/plain": [
              "array([[[0, 0, 0, ..., 0, 0, 0],\n",
              "        [0, 0, 0, ..., 0, 0, 0],\n",
              "        [0, 0, 0, ..., 0, 0, 0],\n",
              "        ...,\n",
              "        [0, 0, 0, ..., 0, 0, 0],\n",
              "        [0, 0, 0, ..., 0, 0, 0],\n",
              "        [0, 0, 0, ..., 0, 0, 0]],\n",
              "\n",
              "       [[0, 0, 0, ..., 0, 0, 0],\n",
              "        [0, 0, 0, ..., 0, 0, 0],\n",
              "        [0, 0, 0, ..., 0, 0, 0],\n",
              "        ...,\n",
              "        [0, 0, 0, ..., 0, 0, 0],\n",
              "        [0, 0, 0, ..., 0, 0, 0],\n",
              "        [0, 0, 0, ..., 0, 0, 0]],\n",
              "\n",
              "       [[0, 0, 0, ..., 0, 0, 0],\n",
              "        [0, 0, 0, ..., 0, 0, 0],\n",
              "        [0, 0, 0, ..., 0, 0, 0],\n",
              "        ...,\n",
              "        [0, 0, 0, ..., 0, 0, 0],\n",
              "        [0, 0, 0, ..., 0, 0, 0],\n",
              "        [0, 0, 0, ..., 0, 0, 0]]], dtype=uint8)"
            ]
          },
          "metadata": {},
          "execution_count": 21
        }
      ],
      "source": [
        "get_pixelmap('0', 'nue')"
      ]
    },
    {
      "cell_type": "markdown",
      "source": [
        "This is a `3x500x500` array of integers. Each pixel represents the energy deposited, but digitized into a 16-bit integer. Lets try to plot them to see how it looks"
      ],
      "metadata": {
        "id": "ATKkhwScM3Qb"
      },
      "id": "ATKkhwScM3Qb"
    },
    {
      "cell_type": "code",
      "execution_count": 22,
      "id": "d5c77c43",
      "metadata": {
        "id": "d5c77c43"
      },
      "outputs": [],
      "source": [
        "import matplotlib.pylab as plt\n",
        "\n",
        "# useful variable which we use in the code later on\n",
        "flav_keys=['numucc', 'nuecc', 'nutaucc', 'NC']\n",
        "# function meant to draw an image. Input here is the image that we obtain from the previous function get_pixelmap\n",
        "def draw_single_pm(pm):\n",
        "    fig, axs = plt.subplots(1, 3, figsize=(15, 10))\n",
        "    fig.suptitle('Pixel Maps')        \n",
        "    titles = ['U', 'V', 'Z']\n",
        "    for i in range(3):\n",
        "        maps = np.swapaxes(pm[i], 0, 1)\n",
        "        axs[i].imshow(maps, interpolation='none', cmap='cool')\n",
        "        axs[i].set_xlabel('Wire')\n",
        "        axs[i].set_ylabel('TDC')\n",
        "        axs[i].title.set_text(titles[i])\n",
        "    plt.show()"
      ]
    },
    {
      "cell_type": "code",
      "source": [
        "pm = get_pixelmap('15', 'nue')\n",
        "draw_single_pm(pm)"
      ],
      "metadata": {
        "id": "paK16T1jNT3g",
        "outputId": "f82f737e-cfa3-4539-84bf-78c9cce986af",
        "colab": {
          "base_uri": "https://localhost:8080/",
          "height": 585
        }
      },
      "id": "paK16T1jNT3g",
      "execution_count": 23,
      "outputs": [
        {
          "output_type": "stream",
          "name": "stderr",
          "text": [
            "/usr/local/lib/python3.7/dist-packages/ipykernel_launcher.py:6: DeprecationWarning: The binary mode of fromstring is deprecated, as it behaves surprisingly on unicode inputs. Use frombuffer instead\n",
            "  \n"
          ]
        },
        {
          "output_type": "display_data",
          "data": {
            "text/plain": [
              "<Figure size 1080x720 with 3 Axes>"
            ],
            "image/png": "[encoded data removed]"
          },
          "metadata": {
            "needs_background": "light"
          }
        }
      ]
    },
    {
      "cell_type": "markdown",
      "source": [
        "Here, the x-axis is the `Wire` number associated with that anode-plane. `U` and `V` denoting the induction planes and `Z` denoting the collection. TDC refers to the time tick which is related to the time it takes for the drift electrons to travel to the anode plane from the ionization point. \n",
        "\n",
        "Now let's try to evaluate our trained network on these images. For that we have to first re-jig the pixel array we got from the `.gz` file into a numpy array format that the network expects. "
      ],
      "metadata": {
        "id": "46zHuqmyNahB"
      },
      "id": "46zHuqmyNahB"
    },
    {
      "cell_type": "code",
      "execution_count": 25,
      "id": "ebcb1784",
      "metadata": {
        "id": "ebcb1784"
      },
      "outputs": [],
      "source": [
        "# convert image from .gz file (3 images, 500x500 pixels) to some format that the neural network understands\n",
        "def convert_pm(pm):\n",
        "    views = len(pm)\n",
        "    planes = pm.shape[1]\n",
        "    cells = pm.shape[2]\n",
        "    \n",
        "    X = [None]*views\n",
        "    for view in range(views):\n",
        "        X[view] = np.zeros((1, planes, cells, 1), dtype='float32')\n",
        "    for view in range(views):\n",
        "        X[view][0, :, :, :] = pm[view, :, :].reshape(planes, cells, 1)\n",
        "    return X"
      ]
    },
    {
      "cell_type": "code",
      "execution_count": 29,
      "id": "8bc28304",
      "metadata": {
        "id": "8bc28304"
      },
      "outputs": [],
      "source": [
        "# loads the already trained neural network model for evaluation\n",
        "def get_model(print_model=False): \n",
        "    with open('saved_model/model.json', 'r') as json_file:\n",
        "        loaded_model_json = json_file.read()\n",
        "        model = model_from_json(loaded_model_json)\n",
        "        model.load_weights('saved_model/weights.h5')\n",
        "\n",
        "    if(print_model):\n",
        "        model.summary()\n",
        "    return model\n",
        "model = get_model() # get the neural network model"
      ]
    },
    {
      "cell_type": "markdown",
      "source": [
        "Let's try to print the results of the network evaluation along with the plot above for a nice summary on what's happening for each event. \n",
        "\n",
        "The following code also allows us to manipulate images in ways like : \n",
        "\n",
        "\n",
        "*   Flipping - flip the images horizontally and then evaluate the network\n",
        "*   TurnOff - Turning off one image out of the 3 and see how the network responds to having lesser information. \n",
        "\n",
        "But for now, we won't have to worry about this. \n",
        "\n"
      ],
      "metadata": {
        "id": "IUM8MMYIObmI"
      },
      "id": "IUM8MMYIObmI"
    },
    {
      "cell_type": "code",
      "execution_count": 30,
      "id": "c568a8ce",
      "metadata": {
        "id": "c568a8ce"
      },
      "outputs": [],
      "source": [
        "# print results of network evaluation on input image\n",
        "def print_pminfo(pm, ID):\n",
        "    print('Results of network evaluation on pixel map')\n",
        "    scores = model.predict(convert_pm(pm))\n",
        "    flav_score = np.max(scores[1], axis=1)\n",
        "    flav_pred = np.argmax(scores[1], axis=1)\n",
        "    print('CVN score for pred label : %f, True Label : %s, Pred Label : %s'%\n",
        "      (flav_score[0], flav_keys[labels[ID][1]], flav_keys[flav_pred[0]]))\n",
        "    print('CVN score for true label : ', scores[1][0][labels[ID][1]])\n",
        "    print('All scores :', scores[1])\n",
        "\n",
        "# draw image and also print results of network evaluation\n",
        "# flip = True, False (to flip each image horizontally)\n",
        "# turnoff = 0, 1 or 2 (to turn off particular images before evaluation)\n",
        "def show_pminfo(key, flav, flip=False, turnoff=None):\n",
        "    \n",
        "    pm = get_pixelmap(key, flav)\n",
        "    print('shape of image : ', pm.shape)\n",
        "    print('Drawing pixel map')\n",
        "    pm2 = pm\n",
        "    if flip:\n",
        "        #pm2 = np.empty(pm.shape, dtype=np.uint8)\n",
        "        # flips the image\n",
        "        for view in range(3):\n",
        "            pm2[view] = np.flip(pm[view], axis=1)\n",
        "            \n",
        "    if turnoff is not None:\n",
        "        assert (turnoff < 3 and turnoff >= 0), \"turnoff can only be 0, 1 or 2\"\n",
        "        pm2[turnoff] = np.zeros(pm[turnoff].shape, dtype=np.uint8)\n",
        "\n",
        "    draw_single_pm(pm2)\n",
        "    print_pminfo(pm2, key)"
      ]
    },
    {
      "cell_type": "code",
      "execution_count": 31,
      "id": "d56b424d",
      "metadata": {
        "id": "d56b424d",
        "outputId": "be6d973a-ebf2-42c5-cbf6-db26a602a997",
        "colab": {
          "base_uri": "https://localhost:8080/",
          "height": 692
        }
      },
      "outputs": [
        {
          "output_type": "stream",
          "name": "stderr",
          "text": [
            "/usr/local/lib/python3.7/dist-packages/ipykernel_launcher.py:6: DeprecationWarning: The binary mode of fromstring is deprecated, as it behaves surprisingly on unicode inputs. Use frombuffer instead\n",
            "  \n"
          ]
        },
        {
          "output_type": "stream",
          "name": "stdout",
          "text": [
            "shape of image :  (3, 500, 500)\n",
            "Drawing pixel map\n"
          ]
        },
        {
          "output_type": "display_data",
          "data": {
            "text/plain": [
              "<Figure size 1080x720 with 3 Axes>"
            ],
            "image/png": "[encoded data removed]"
          },
          "metadata": {
            "needs_background": "light"
          }
        },
        {
          "output_type": "stream",
          "name": "stdout",
          "text": [
            "Results of network evaluation on pixel map\n",
            "CVN score for pred label : 0.805564, True Label : nuecc, Pred Label : nuecc\n",
            "CVN score for true label :  0.8055639\n",
            "All scores : [[0.02204059 0.8055639  0.13596834 0.0364271 ]]\n"
          ]
        }
      ],
      "source": [
        "show_pminfo('15', 'nue')"
      ]
    },
    {
      "cell_type": "markdown",
      "source": [
        "Here we have: \n",
        "\n",
        "\n",
        "*   The predicted label and the true label along with the \"likelihood\" score the network gives for its prediction\n",
        "*   In cases where the network gets it wrong, its also useful to see what the score was for the true label\n",
        "*   Finally, a list of all scores for each of the 4 labels\n",
        "\n",
        "I encourage you to play around with the inputs and see what kind of results you get and try to get a feel for whether the network is behaving accurately and as intended and where its getting confused if at all. But we'll move on to evaluate the network performance more quantitatively. \n",
        "\n",
        "\n",
        "\n"
      ],
      "metadata": {
        "id": "Vxlv-VcLPF-6"
      },
      "id": "Vxlv-VcLPF-6"
    },
    {
      "cell_type": "code",
      "source": [
        "# function to get the predicted label for input event\n",
        "def get_pred(key, flav_event):\n",
        "    pm = get_pixelmap(key, flav_event)\n",
        "    scores = model.predict(convert_pm(pm))\n",
        "    flav_pred = np.argmax(scores[1], axis=1)[0]\n",
        "\n",
        "    return flav_pred\n",
        "\n",
        "# function to get the given label score for each event. \n",
        "# For eg, one can ask it to provide the nueCC score for an NC event and so on\n",
        "def get_flav_score(key, flav, flav_event):\n",
        "    tags = np.array(['numu', 'nue', 'nutau', 'nc'])\n",
        "    pm = get_pixelmap(key, flav_event)\n",
        "    scores = model.predict(convert_pm(pm))\n",
        "    flav_score = scores[1][0][np.where(tags == flav)[0][0]]\n",
        "\n",
        "    return flav_score"
      ],
      "metadata": {
        "id": "kivrImAaMKTj"
      },
      "id": "kivrImAaMKTj",
      "execution_count": 32,
      "outputs": []
    },
    {
      "cell_type": "markdown",
      "source": [
        "Typically, the first set of numbers we look at in the test dataset are so-called confusion matrices. Essentially a matrix of `True Label` vs `Predicted Label` that tells us where the network gets things wrong and predominantly which label is the most confusing. Here we will ignore `nuTauCC` and just concentrate on `nueCC`, `numuCC` and `NC`"
      ],
      "metadata": {
        "id": "v7SzsYxaQNvo"
      },
      "id": "v7SzsYxaQNvo"
    },
    {
      "cell_type": "code",
      "source": [
        "confusion_mat = np.zeros((3,3), dtype=np.uint8)\n",
        "tags = ['numu', 'nue', 'nc']\n",
        "for f in range(3):\n",
        "  for i in range(100):\n",
        "    flav_pred = get_pred(str(i), tags[f])\n",
        "    if(flav_pred == 2) : continue\n",
        "    if(flav_pred == 3) : flav_pred = 2\n",
        "    confusion_mat[f][flav_pred] += 1"
      ],
      "metadata": {
        "id": "3s1ttutOQX35",
        "outputId": "25f13fd3-85ca-47f0-9df0-66337037ed16",
        "colab": {
          "base_uri": "https://localhost:8080/"
        }
      },
      "id": "3s1ttutOQX35",
      "execution_count": 33,
      "outputs": [
        {
          "output_type": "stream",
          "name": "stderr",
          "text": [
            "/usr/local/lib/python3.7/dist-packages/ipykernel_launcher.py:6: DeprecationWarning: The binary mode of fromstring is deprecated, as it behaves surprisingly on unicode inputs. Use frombuffer instead\n",
            "  \n"
          ]
        }
      ]
    },
    {
      "cell_type": "markdown",
      "source": [
        "Here, rows are given by True Label, columns by Predicted Label. So one reads this off as, for `100` true numuCC events, the network is able to predict `95` of them accurately. `1` out of `100` is predicted as `nueCC` and `4` as NC. Similarly, one can read off for the other rows as well. "
      ],
      "metadata": {
        "id": "7q0_gDXtQ1Cz"
      },
      "id": "7q0_gDXtQ1Cz"
    },
    {
      "cell_type": "code",
      "source": [
        "print(confusion_mat)"
      ],
      "metadata": {
        "id": "1MWZkRdGQ4U9",
        "outputId": "ad2799b7-81e1-4019-b71e-97054005fba2",
        "colab": {
          "base_uri": "https://localhost:8080/"
        }
      },
      "id": "1MWZkRdGQ4U9",
      "execution_count": 34,
      "outputs": [
        {
          "output_type": "stream",
          "name": "stdout",
          "text": [
            "[[95  1  4]\n",
            " [ 0 98  2]\n",
            " [ 3  4 90]]\n"
          ]
        }
      ]
    },
    {
      "cell_type": "markdown",
      "source": [
        "We can normalize them by row to get an \"efficiency\" matrix. Also referred to as \"Sensitivity\" in other fields. Essentially, for given true label, we ask what fraction is predicted as signal or other background channels. "
      ],
      "metadata": {
        "id": "mzEdwI0ORMDZ"
      },
      "id": "mzEdwI0ORMDZ"
    },
    {
      "cell_type": "code",
      "source": [
        "eff_mat = confusion_mat/confusion_mat.sum(axis=1,keepdims=True)\n",
        "print(eff_mat)"
      ],
      "metadata": {
        "id": "lbU5E-d5Q5zt",
        "outputId": "ee21fdce-9fad-471f-8af1-7bea6bb3c521",
        "colab": {
          "base_uri": "https://localhost:8080/"
        }
      },
      "id": "lbU5E-d5Q5zt",
      "execution_count": 35,
      "outputs": [
        {
          "output_type": "stream",
          "name": "stdout",
          "text": [
            "[[0.95       0.01       0.04      ]\n",
            " [0.         0.98       0.02      ]\n",
            " [0.03092784 0.04123711 0.92783505]]\n"
          ]
        }
      ]
    },
    {
      "cell_type": "markdown",
      "source": [
        "The other side of this is a \"purity\" matrix. Or \"Specificity\". Essentially, for a given predicted label, we ask what fraction is actually signal or other background. Sometimes a network can get very good efficiency by predicting a particular label all the time, but that's not a good thing and this metric is designed to catch that. So for eg, we see that the network is able to predict `98%` of `nueCC` accurately and also `95%` of events that it predicts as `nueCC` are actually `nueCC`. "
      ],
      "metadata": {
        "id": "D0cpdK8jRuVC"
      },
      "id": "D0cpdK8jRuVC"
    },
    {
      "cell_type": "code",
      "source": [
        "pur_mat = confusion_mat/confusion_mat.sum(axis=0,keepdims=True)\n",
        "print(pur_mat)"
      ],
      "metadata": {
        "id": "QJH9CJ3UUOln",
        "outputId": "9a76f260-ef5c-4875-836e-db9cb3753984",
        "colab": {
          "base_uri": "https://localhost:8080/"
        }
      },
      "id": "QJH9CJ3UUOln",
      "execution_count": 36,
      "outputs": [
        {
          "output_type": "stream",
          "name": "stdout",
          "text": [
            "[[0.96938776 0.00970874 0.04166667]\n",
            " [0.         0.95145631 0.02083333]\n",
            " [0.03061224 0.03883495 0.9375    ]]\n"
          ]
        }
      ]
    },
    {
      "cell_type": "markdown",
      "source": [
        "We can visualize these numbers better in the following plots. Highly diagonal matrices are a sign that the network is able to generalize to a test dataset (made up of events that it has never seen) pretty well. "
      ],
      "metadata": {
        "id": "jrstKE8KShVJ"
      },
      "id": "jrstKE8KShVJ"
    },
    {
      "cell_type": "code",
      "source": [
        "fig, ax = plt.subplots(figsize=(10, 10))\n",
        "im = ax.imshow(eff_mat, interpolation=None)\n",
        "\n",
        "ax.set_xticks(np.arange(len(tags)))\n",
        "ax.set_xticklabels(tags)\n",
        "ax.set_ylabel('True Label')\n",
        "ax.set_xlabel('Pred Label')\n",
        "ax.set_yticks(np.arange(len(tags)))\n",
        "ax.set_yticklabels(tags)\n",
        "for i in range(len(tags)):\n",
        "  for j in range(len(tags)):\n",
        "    text = ax.text(j, i, round(eff_mat[i, j], 2), ha='center', va='center', color='r')\n",
        "\n",
        "plt.title('Efficiency by Label')\n",
        "plt.show()"
      ],
      "metadata": {
        "id": "AJlP4BkPU3Fn",
        "outputId": "577bff03-adfe-488b-e1ca-d4be9109c1d5",
        "colab": {
          "base_uri": "https://localhost:8080/",
          "height": 621
        }
      },
      "id": "AJlP4BkPU3Fn",
      "execution_count": 37,
      "outputs": [
        {
          "output_type": "display_data",
          "data": {
            "text/plain": [
              "<Figure size 720x720 with 1 Axes>"
            ],
            "image/png": "[encoded data removed]"
          },
          "metadata": {
            "needs_background": "light"
          }
        }
      ]
    },
    {
      "cell_type": "code",
      "source": [
        "fig, ax = plt.subplots(figsize=(10, 10))\n",
        "im = ax.imshow(pur_mat, interpolation=None)\n",
        "\n",
        "ax.set_xticks(np.arange(len(tags)))\n",
        "ax.set_xticklabels(tags)\n",
        "ax.set_ylabel('True Label')\n",
        "ax.set_xlabel('Pred Label')\n",
        "ax.set_yticks(np.arange(len(tags)))\n",
        "ax.set_yticklabels(tags)\n",
        "for i in range(len(tags)):\n",
        "  for j in range(len(tags)):\n",
        "    text = ax.text(j, i, round(pur_mat[i, j], 2), ha='center', va='center', color='r')\n",
        "\n",
        "plt.title('Purity by Label')\n",
        "plt.show()"
      ],
      "metadata": {
        "id": "r3rjzhxoW1kW",
        "outputId": "d2f10681-6a63-43f6-febc-77795fa922a3",
        "colab": {
          "base_uri": "https://localhost:8080/",
          "height": 621
        }
      },
      "id": "r3rjzhxoW1kW",
      "execution_count": 38,
      "outputs": [
        {
          "output_type": "display_data",
          "data": {
            "text/plain": [
              "<Figure size 720x720 with 1 Axes>"
            ],
            "image/png": "[encoded data removed]"
          },
          "metadata": {
            "needs_background": "light"
          }
        }
      ]
    },
    {
      "cell_type": "markdown",
      "source": [
        "Let's try to plot some histograms of the network scores to see how much its able to separate signal and background. Here we will look at only `nueCC` scores but as homework, one can make similar plots for `numuCC` and `NC` scores as well. "
      ],
      "metadata": {
        "id": "uT2Z-rnGSxbI"
      },
      "id": "uT2Z-rnGSxbI"
    },
    {
      "cell_type": "code",
      "source": [
        "# loop over events and append nueCC scores based on whether its signal or background\n",
        "sig_scores = []\n",
        "numu_scores = []\n",
        "nc_scores = []\n",
        "tags = ['numu', 'nue', 'nc']\n",
        "for f in range(3):\n",
        "  for i in range(100):\n",
        "    flav_score = get_flav_score(str(i), 'nue', tags[f])\n",
        "    if(f == 1): sig_scores.append(flav_score)\n",
        "    if(f == 0): numu_scores.append(flav_score)\n",
        "    if(f == 2): nc_scores.append(flav_score)"
      ],
      "metadata": {
        "id": "6ZH2ECMKYpyS",
        "outputId": "8dd69c12-c3fd-4bb2-9cf6-d69a7cab16e2",
        "colab": {
          "base_uri": "https://localhost:8080/"
        }
      },
      "id": "6ZH2ECMKYpyS",
      "execution_count": 39,
      "outputs": [
        {
          "output_type": "stream",
          "name": "stderr",
          "text": [
            "/usr/local/lib/python3.7/dist-packages/ipykernel_launcher.py:6: DeprecationWarning: The binary mode of fromstring is deprecated, as it behaves surprisingly on unicode inputs. Use frombuffer instead\n",
            "  \n"
          ]
        }
      ]
    },
    {
      "cell_type": "code",
      "source": [
        "# make the plot\n",
        "b = np.arange(0, 1.05, 0.05)\n",
        "fig, ax = plt.subplots(figsize=(10, 10))\n",
        "ax.hist(np.array(sig_scores), bins=b, histtype='step',color='red',linestyle='solid',label='Signal nueCC')\n",
        "ax.hist(np.array(numu_scores), bins=b, histtype='step',color='blue',linestyle='solid',label='NumuCC Bkg')\n",
        "ax.hist(np.array(nc_scores), bins=b, histtype='step',color='green',linestyle='solid',label='NC Bkg')\n",
        "ax.hist(np.array(nc_scores+numu_scores), bins=b, histtype='step',color='black',linestyle='solid',label='Total Bkg')\n",
        "ax.legend(loc='best')\n",
        "ax.set_ylabel('Events')\n",
        "ax.set_xlabel('CNN Score')\n",
        "plt.show()"
      ],
      "metadata": {
        "id": "nDmaBJjSbGAf",
        "outputId": "6ec536fe-da41-4dc3-d368-e8dbc2ac588b",
        "colab": {
          "base_uri": "https://localhost:8080/",
          "height": 606
        }
      },
      "id": "nDmaBJjSbGAf",
      "execution_count": 40,
      "outputs": [
        {
          "output_type": "display_data",
          "data": {
            "text/plain": [
              "<Figure size 720x720 with 1 Axes>"
            ],
            "image/png": "[encoded data removed]"
          },
          "metadata": {
            "needs_background": "light"
          }
        }
      ]
    },
    {
      "cell_type": "markdown",
      "source": [
        "This shows that in terms of the `nueCC` scores, the true `nueCC` events peak near 1 while the background peaks near 0. This shows that the network is behaving appropriately and is able to distinguish signal and background. The better the separation in this plot, the better the performance. "
      ],
      "metadata": {
        "id": "6MFnDfh2TPgL"
      },
      "id": "6MFnDfh2TPgL"
    },
    {
      "cell_type": "markdown",
      "source": [
        "We can even try to quantify the separation using a \"ROC\" Curve. \n",
        "\n",
        "\n",
        "*   ROC - Receiver Operating Characteristic \n",
        "\n",
        "Essentially, it scans across the CNN scores and at each point gathers the fraction of background selected and the fraction of signal selected. Then, it just plots them together. It's instructive to compare this to an extremely dumb classifier which just predicts everything as nueCC without any skill, no matter which event is thrown at it. \n",
        "\n",
        "\n"
      ],
      "metadata": {
        "id": "9T_PF_7ATjV9"
      },
      "id": "9T_PF_7ATjV9"
    },
    {
      "cell_type": "code",
      "source": [
        "from sklearn.metrics import roc_curve\n",
        "from sklearn.metrics import roc_auc_score\n",
        "\n",
        "lr_fpr, lr_tpr, _ = roc_curve(200*[0] + 100*[1], numu_scores+nc_scores+sig_scores)\n",
        "ns_fpr, ns_tpr, _ = roc_curve(200*[0] + 100*[1], 300*[1])\n",
        "fig, ax = plt.subplots(figsize=(10, 10))\n",
        "ax.plot(lr_fpr, lr_tpr, marker='.', label='CNN for NueCC')\n",
        "ax.plot(ns_fpr, ns_tpr, marker='.', label='No Skill')\n",
        "ax.legend(loc='best')\n",
        "ax.set_title('ROC Curve')\n",
        "ax.set_xlabel('Background Efficiency')\n",
        "ax.set_ylabel('Signal Efficiency')\n",
        "plt.show()\n",
        "lr_auc = roc_auc_score(200*[0] + 100*[1], numu_scores+nc_scores+sig_scores)\n",
        "ns_auc = roc_auc_score(200*[0] + 100*[1], 300*[1])\n",
        "print('AUC scores for (CNN, No Skill) : %0.03f, %0.03f'%(lr_auc, ns_auc))"
      ],
      "metadata": {
        "id": "mb65ZyTccHJT",
        "outputId": "e9378fbc-6305-461f-cc06-e06444a88ce8",
        "colab": {
          "base_uri": "https://localhost:8080/",
          "height": 639
        }
      },
      "id": "mb65ZyTccHJT",
      "execution_count": 41,
      "outputs": [
        {
          "output_type": "display_data",
          "data": {
            "text/plain": [
              "<Figure size 720x720 with 1 Axes>"
            ],
            "image/png": "[encoded data removed]"
          },
          "metadata": {
            "needs_background": "light"
          }
        },
        {
          "output_type": "stream",
          "name": "stdout",
          "text": [
            "AUC scores for (CNN, No Skill) : 0.998, 0.500\n"
          ]
        }
      ]
    },
    {
      "cell_type": "markdown",
      "source": [
        "One can clearly see that the CNN is obviously far superior to the \"No Skill\" network that just predicts `nueCC` all the time. The way to quantify this better is to estimate the \"Area under the Curve\" (AUC) which is one of many possible metrics. The \"No Skill\" one has an AUC of 0.5 while a CNN has an AUC of 0.998. \n",
        "\n",
        "A perfect network will have an AUC of exactly 1, so we can see our CNN is actually very very good! (Of course, there's some influence here of limited statistics, but point still stands.)\n",
        "\n",
        "One can develop a different network and also compare with this CNN and the No Skill network to see how it performs. The AUC is one metric that can tell us which network is better."
      ],
      "metadata": {
        "id": "AhQLoecXUg9Q"
      },
      "id": "AhQLoecXUg9Q"
    },
    {
      "cell_type": "code",
      "source": [
        ""
      ],
      "metadata": {
        "id": "tv_TIs-OVN-M"
      },
      "id": "tv_TIs-OVN-M",
      "execution_count": null,
      "outputs": []
    }
  ],
  "metadata": {
    "kernelspec": {
      "display_name": "Python 3 (ipykernel)",
      "language": "python",
      "name": "python3"
    },
    "language_info": {
      "codemirror_mode": {
        "name": "ipython",
        "version": 3
      },
      "file_extension": ".py",
      "mimetype": "text/x-python",
      "name": "python",
      "nbconvert_exporter": "python",
      "pygments_lexer": "ipython3",
      "version": "3.7.13"
    },
    "colab": {
      "name": "dune_cvn_nusteam.ipynb",
      "provenance": []
    }
  },
  "nbformat": 4,
  "nbformat_minor": 5
}