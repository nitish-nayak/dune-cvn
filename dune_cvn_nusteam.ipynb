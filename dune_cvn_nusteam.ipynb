{
 "cells": [
  {
   "cell_type": "code",
   "execution_count": 2,
   "id": "wMJwxVk_KvNb",
   "metadata": {
    "colab": {
     "base_uri": "https://localhost:8080/"
    },
    "id": "wMJwxVk_KvNb",
    "outputId": "33440ca4-178b-4d2d-fe18-fb36ea3643cc"
   },
   "outputs": [
    {
     "name": "stdout",
     "output_type": "stream",
     "text": [
      "Cloning into 'dune-cvn'...\n",
      "remote: Enumerating objects: 1447, done.\u001b[K\n",
      "remote: Counting objects: 100% (343/343), done.\u001b[K\n",
      "remote: Compressing objects: 100% (335/335), done.\u001b[K\n",
      "remote: Total 1447 (delta 11), reused 339 (delta 7), pack-reused 1104\u001b[K\n",
      "Receiving objects: 100% (1447/1447), 89.34 MiB | 21.25 MiB/s, done.\n",
      "Resolving deltas: 100% (61/61), done.\n",
      "Checking out files: 100% (339/339), done.\n"
     ]
    }
   ],
   "source": [
    "!git clone https://github.com/nitish-nayak/dune-cvn.git"
   ]
  },
  {
   "cell_type": "code",
   "execution_count": 3,
   "id": "a4bHyHa3K47k",
   "metadata": {
    "colab": {
     "base_uri": "https://localhost:8080/"
    },
    "id": "a4bHyHa3K47k",
    "outputId": "4b94cb07-2d0f-4a4f-8206-c02e8fb9c24f"
   },
   "outputs": [
    {
     "name": "stdout",
     "output_type": "stream",
     "text": [
      "/content/dune-cvn\n"
     ]
    }
   ],
   "source": [
    "%cd dune-cvn"
   ]
  },
  {
   "cell_type": "code",
   "execution_count": 4,
   "id": "C0QpWypoK7lt",
   "metadata": {
    "colab": {
     "base_uri": "https://localhost:8080/"
    },
    "id": "C0QpWypoK7lt",
    "outputId": "563a169b-5a30-4a38-9108-9c5978ff00dc"
   },
   "outputs": [
    {
     "name": "stdout",
     "output_type": "stream",
     "text": [
      "\u001b[0m\u001b[01;34mdataset\u001b[0m/                LICENSE   README.md         test_dune_cvn.ipynb\n",
      "\u001b[01;34mdataset_highstats\u001b[0m/      \u001b[01;34mmodules\u001b[0m/  requirements.txt  test.py\n",
      "dune_cvn_nusteam.ipynb  \u001b[01;34moutput\u001b[0m/   \u001b[01;34msaved_model\u001b[0m/      utils.py\n"
     ]
    }
   ],
   "source": [
    "%ls"
   ]
  },
  {
   "cell_type": "markdown",
   "id": "TIkxZXPLKNq-",
   "metadata": {
    "id": "TIkxZXPLKNq-"
   },
   "source": [
    "The `dataset` folder contains 20 events in .gz files. Each .gz file is a compressed binary made up of three 500x500 images for the DUNE HD design, with 2 induction planes and 1 collection plane. \n",
    "\n",
    "There's also a `dataset_highstats` folder which we will use here that contains 100 events for each of `nueCC`, `numuCC` and `NC`, in the same .gz format\n",
    "\n",
    "To access the truth labels for these events, we will need to read in pickle (`.p`) files. "
   ]
  },
  {
   "cell_type": "code",
   "execution_count": 5,
   "id": "j2eF4glzJ40c",
   "metadata": {
    "colab": {
     "base_uri": "https://localhost:8080/"
    },
    "id": "j2eF4glzJ40c",
    "outputId": "5ef30281-b42b-46cb-ea23-3095c13ed42e"
   },
   "outputs": [
    {
     "name": "stdout",
     "output_type": "stream",
     "text": [
      "\"\"\"\r\n",
      "DUNE CVN test module.\r\n",
      "\"\"\"\r\n",
      "__version__ = '1.0'\r\n",
      "__author__ = 'Saul Alonso-Monsalve, Leigh Howard Whitehead'\r\n",
      "__email__ = \"saul.alonso.monsalve@cern.ch, leigh.howard.whitehead@cern.ch\"\r\n",
      "\r\n",
      "import shutil\r\n",
      "import numpy as np\r\n",
      "import pickle as pk\r\n",
      "import sys\r\n",
      "import os\r\n",
      "\r\n",
      "sys.path.append(os.path.join(sys.path[0], 'modules'))\r\n",
      "\r\n",
      "from tensorflow.keras.models import model_from_json\r\n",
      "from sklearn.metrics import classification_report, confusion_matrix\r\n",
      "from data_generator import DataGenerator\r\n",
      "from opts import get_args\r\n",
      "from keras.models import load_model\r\n",
      "import my_losses\r\n",
      "from dune_cvn import CustomTrainStep\r\n",
      "\r\n",
      "# manually specify the GPUs to use\r\n",
      "os.environ[\"CUDA_DEVICE_ORDER\"]=\"PCI_BUS_ID\"\r\n",
      "os.environ[\"CUDA_VISIBLE_DEVICES\"]=\"0\"\r\n",
      "\r\n"
     ]
    }
   ],
   "source": [
    "# import some useful modules\n",
    "!cat utils.py\n",
    "from utils import *"
   ]
  },
  {
   "cell_type": "code",
   "execution_count": 6,
   "id": "cd68f95f",
   "metadata": {
    "id": "cd68f95f"
   },
   "outputs": [],
   "source": [
    "# some useful variables for our code\n",
    "test_values = []\n",
    "TEST_PARAMS = {'batch_size':1, #batch size for network evaluation (model.predict)\n",
    "               'images_path':'dataset_info', # folder where all the images lie\n",
    "               'shuffle':False, # whether we want to shuffle the files (doesn't matter for us, since we're just evaluating them one by one)\n",
    "               'test_values':test_values}"
   ]
  },
  {
   "cell_type": "markdown",
   "id": "EcO3h4w5LFwP",
   "metadata": {
    "id": "EcO3h4w5LFwP"
   },
   "source": [
    "Here, we'll load the truth labels from the `.p` files. "
   ]
  },
  {
   "cell_type": "code",
   "execution_count": 7,
   "id": "9e21a555",
   "metadata": {
    "id": "9e21a555"
   },
   "outputs": [],
   "source": [
    "# load dataset into IDs, labels \n",
    "def get_labels(flav):\n",
    "  #print('Reading dataset from serialized file...')\n",
    "  filename = TEST_PARAMS['images_path']+'/'+flav+'/partition_'+flav+'.p'\n",
    "  with open(filename, 'rb') as partition_file:\n",
    "      labels = pk.load(partition_file)\n",
    "      IDs = list(labels.keys())\n",
    "  #print('Loaded. Number of test examples for flavor %s : %d'%(flav,len(IDs)))\n",
    "  return IDs, labels"
   ]
  },
  {
   "cell_type": "code",
   "execution_count": 8,
   "id": "5m5-0ghOLZ39",
   "metadata": {
    "colab": {
     "base_uri": "https://localhost:8080/"
    },
    "id": "5m5-0ghOLZ39",
    "outputId": "19aa8f1e-ae2d-4596-fd3b-d794973e9920"
   },
   "outputs": [
    {
     "name": "stdout",
     "output_type": "stream",
     "text": [
      "Reading dataset from serialized file...\n",
      "Loaded. Number of test examples for flavor nc : 200\n"
     ]
    }
   ],
   "source": [
    "IDs, labels = get_labels('nc') # load pickle file for nueCC events"
   ]
  },
  {
   "cell_type": "code",
   "execution_count": 59,
   "id": "dff71344",
   "metadata": {},
   "outputs": [
    {
     "name": "stdout",
     "output_type": "stream",
     "text": [
      "['0', '1', '2', '3', '4', '5', '6', '7', '8', '9']\n"
     ]
    }
   ],
   "source": [
    "print(list(labels.keys())[:10])"
   ]
  },
  {
   "cell_type": "code",
   "execution_count": 25,
   "id": "202f7182",
   "metadata": {
    "colab": {
     "base_uri": "https://localhost:8080/"
    },
    "id": "202f7182",
    "outputId": "eac6b914-3b52-490b-d0e2-21df4f38ea36"
   },
   "outputs": [
    {
     "name": "stdout",
     "output_type": "stream",
     "text": [
      "[-1, 3, -1, 1, 1, 0, 1]\n"
     ]
    }
   ],
   "source": [
    "# lookup value for key = '1'\n",
    "print(labels['1'])"
   ]
  },
  {
   "cell_type": "markdown",
   "id": "zznljElBLUrK",
   "metadata": {
    "id": "zznljElBLUrK"
   },
   "source": [
    "`labels` is a dictionary that contains the truth information for each event indexed by keys `'0' - '99'`. Remember the CNN has been trained to predict a bunch of information about the topology and not just the flavor. We will only focus on the flavor tagging aspect for now, which is given by the second element of the list"
   ]
  },
  {
   "cell_type": "code",
   "execution_count": 27,
   "id": "H6O5-zfRLwgQ",
   "metadata": {
    "colab": {
     "base_uri": "https://localhost:8080/"
    },
    "id": "H6O5-zfRLwgQ",
    "outputId": "2d28f41e-021d-487a-f8ca-4b67c9ae33b9"
   },
   "outputs": [
    {
     "name": "stdout",
     "output_type": "stream",
     "text": [
      "3\n"
     ]
    }
   ],
   "source": [
    "print(labels['1'][1])"
   ]
  },
  {
   "cell_type": "markdown",
   "id": "CHqMwoyvL7U9",
   "metadata": {
    "id": "CHqMwoyvL7U9"
   },
   "source": [
    "The second element is enumerated as: \n",
    "\n",
    "\n",
    "*   0 - numuCC\n",
    "*   1 - nueCC\n",
    "*   2 - nutauCC\n",
    "*   3 - NC\n",
    "\n",
    "\n",
    "\n"
   ]
  },
  {
   "cell_type": "code",
   "execution_count": 12,
   "id": "b84711c9",
   "metadata": {
    "id": "b84711c9"
   },
   "outputs": [],
   "source": [
    "import zlib\n",
    "# this function reads the .gz image file given an argument like '0' or '1' or '2' and so on\n",
    "def get_pixelmap(key, flav): # with a default value\n",
    "    path = TEST_PARAMS['images_path']+'/'+flav\n",
    "    with open(path+'/event'+key+'.gz', 'rb') as image_file:\n",
    "        pixels = np.fromstring(zlib.decompress(image_file.read()), dtype=np.uint8, sep='').reshape(3, 500, 500)\n",
    "        return pixels"
   ]
  },
  {
   "cell_type": "code",
   "execution_count": 205,
   "id": "d7c527fb",
   "metadata": {},
   "outputs": [],
   "source": [
    "def get_eventinfo(key, flav):\n",
    "    path = TEST_PARAMS['images_path']+'/'+flav\n",
    "    ret = {}\n",
    "    with open(path+'/event'+key+'.info', 'rb') as info_file:\n",
    "        info = info_file.readlines()\n",
    "        ret['NuPDG'] = int(info[7].strip())\n",
    "        ret['NuEnergy'] = float(info[1])\n",
    "        ret['LepEnergy'] = float(info[2])\n",
    "        ret['Interaction'] = int(info[0].strip()) % 4\n",
    "        ret['NProton'] = int(info[8].strip())\n",
    "        ret['NPion'] = int(info[9].strip())\n",
    "        ret['NPiZero'] = int(info[10].strip())\n",
    "        ret['NNeutron'] = int(info[11].strip())\n",
    "        ret['OscWeight'] = float(info[6])\n",
    "    return ret"
   ]
  },
  {
   "cell_type": "code",
   "execution_count": 206,
   "id": "c67b67ac",
   "metadata": {
    "colab": {
     "base_uri": "https://localhost:8080/"
    },
    "id": "c67b67ac",
    "outputId": "cc196f55-ffc1-409f-c991-ced1e26aa5aa"
   },
   "outputs": [
    {
     "name": "stderr",
     "output_type": "stream",
     "text": [
      "/Users/nitishnayak/for_alissa/cvn_venv/lib/python3.7/site-packages/ipykernel_launcher.py:6: DeprecationWarning: The binary mode of fromstring is deprecated, as it behaves surprisingly on unicode inputs. Use frombuffer instead\n",
      "  \n"
     ]
    },
    {
     "data": {
      "text/plain": [
       "array([[[0, 0, 0, ..., 0, 0, 0],\n",
       "        [0, 0, 0, ..., 0, 0, 0],\n",
       "        [0, 0, 0, ..., 0, 0, 0],\n",
       "        ...,\n",
       "        [0, 0, 0, ..., 0, 0, 0],\n",
       "        [0, 0, 0, ..., 0, 0, 0],\n",
       "        [0, 0, 0, ..., 0, 0, 0]],\n",
       "\n",
       "       [[0, 0, 0, ..., 0, 0, 0],\n",
       "        [0, 0, 0, ..., 0, 0, 0],\n",
       "        [0, 0, 0, ..., 0, 0, 0],\n",
       "        ...,\n",
       "        [0, 0, 0, ..., 0, 0, 0],\n",
       "        [0, 0, 0, ..., 0, 0, 0],\n",
       "        [0, 0, 0, ..., 0, 0, 0]],\n",
       "\n",
       "       [[0, 0, 0, ..., 0, 0, 0],\n",
       "        [0, 0, 0, ..., 0, 0, 0],\n",
       "        [0, 0, 0, ..., 0, 0, 0],\n",
       "        ...,\n",
       "        [0, 0, 0, ..., 0, 0, 0],\n",
       "        [0, 0, 0, ..., 0, 0, 0],\n",
       "        [0, 0, 0, ..., 0, 0, 0]]], dtype=uint8)"
      ]
     },
     "execution_count": 206,
     "metadata": {},
     "output_type": "execute_result"
    }
   ],
   "source": [
    "get_pixelmap('0', 'nue')"
   ]
  },
  {
   "cell_type": "markdown",
   "id": "ATKkhwScM3Qb",
   "metadata": {
    "id": "ATKkhwScM3Qb"
   },
   "source": [
    "The pixel map is a `3x500x500` array of integers. Each pixel represents the energy deposited, but digitized into a 16-bit integer. Lets try to plot them to see how it looks"
   ]
  },
  {
   "cell_type": "code",
   "execution_count": 33,
   "id": "d5c77c43",
   "metadata": {
    "id": "d5c77c43"
   },
   "outputs": [],
   "source": [
    "import matplotlib.pylab as plt\n",
    "\n",
    "# useful variable which we use in the code later on\n",
    "flav_keys=['numucc', 'nuecc', 'nutaucc', 'NC']\n",
    "# function meant to draw an image. Input here is the image that we obtain from the previous function get_pixelmap\n",
    "def draw_single_pm(pm):\n",
    "    fig, axs = plt.subplots(1, 3, figsize=(15, 10))\n",
    "    fig.suptitle('Pixel Maps')        \n",
    "    titles = ['U', 'V', 'Z']\n",
    "    for i in range(3):\n",
    "        maps = np.swapaxes(pm[i], 0, 1)\n",
    "        axs[i].imshow(maps, interpolation='none', cmap='twilight')\n",
    "        axs[i].set_xlabel('Wire')\n",
    "        axs[i].set_ylabel('TDC')\n",
    "        axs[i].title.set_text(titles[i])\n",
    "    plt.show()"
   ]
  },
  {
   "cell_type": "code",
   "execution_count": 237,
   "id": "paK16T1jNT3g",
   "metadata": {
    "colab": {
     "base_uri": "https://localhost:8080/",
     "height": 585
    },
    "id": "paK16T1jNT3g",
    "outputId": "f82f737e-cfa3-4539-84bf-78c9cce986af"
   },
   "outputs": [
    {
     "name": "stderr",
     "output_type": "stream",
     "text": [
      "/Users/nitishnayak/for_alissa/cvn_venv/lib/python3.7/site-packages/ipykernel_launcher.py:6: DeprecationWarning: The binary mode of fromstring is deprecated, as it behaves surprisingly on unicode inputs. Use frombuffer instead\n",
      "  \n"
     ]
    },
    {
     "data": {
      "image/png": "[encoded data removed]",
      "text/plain": [
       "<Figure size 1080x720 with 3 Axes>"
      ]
     },
     "metadata": {
      "needs_background": "light"
     },
     "output_type": "display_data"
    }
   ],
   "source": [
    "pm = get_pixelmap('2', 'nue')\n",
    "draw_single_pm(pm)"
   ]
  },
  {
   "cell_type": "markdown",
   "id": "4145b7c4",
   "metadata": {},
   "source": [
    "Here, the x-axis is the `Wire` number associated with that anode-plane. `U` and `V` denoting the induction planes and `Z` denoting the collection. TDC refers to the time tick which is related to the time it takes for the drift electrons to travel to the anode plane from the ionization point. "
   ]
  },
  {
   "cell_type": "markdown",
   "id": "a20bcb6a",
   "metadata": {},
   "source": [
    "We can also look at some relevant information about the event that makes up the image above."
   ]
  },
  {
   "cell_type": "code",
   "execution_count": 238,
   "id": "f85488d2",
   "metadata": {},
   "outputs": [
    {
     "data": {
      "text/plain": [
       "{'NuPDG': 12,\n",
       " 'NuEnergy': 6.86561,\n",
       " 'LepEnergy': 4.0527,\n",
       " 'Interaction': 2,\n",
       " 'NProton': 0,\n",
       " 'NPion': 1,\n",
       " 'NPiZero': 0,\n",
       " 'NNeutron': 1,\n",
       " 'OscWeight': 0.970963}"
      ]
     },
     "execution_count": 238,
     "metadata": {},
     "output_type": "execute_result"
    }
   ],
   "source": [
    "get_eventinfo('2', 'nue')"
   ]
  },
  {
   "cell_type": "markdown",
   "id": "3ffd28e2",
   "metadata": {},
   "source": [
    "NuEnergy and LepEnergy denotes the neutrino and lepton energy respectively\n",
    "The PDG codes denote the type of neutrino where : \n",
    "\n",
    " -  12 (-12) : nue (anti-nue)\n",
    " -  14 (-14) : numu (anti-numu)\n",
    " -  16 (-16) : nutau (anti-nutau)\n",
    " -  1 : NC (since distinguishing the flavor is not possible)"
   ]
  },
  {
   "cell_type": "markdown",
   "id": "612910b7",
   "metadata": {},
   "source": [
    "The Interaction codes denote the type of interaction the neutrino had with the nucleus where : \n",
    "\n",
    " - 0 : QuasiElastic (QE)\n",
    " - 1 : Delta-Resonance (RES)\n",
    " - 2 : Deep Inelastic Scattering (DIS)\n",
    " - 3 : Other\n",
    " \n",
    "There is also information about the type and number of important final state particles. Bear in mind, that these numbers have a certain threshold cut, so if for eg a proton in the final state doesn't have enough energy deposits it will not count towards the total"
   ]
  },
  {
   "cell_type": "markdown",
   "id": "46zHuqmyNahB",
   "metadata": {
    "id": "46zHuqmyNahB"
   },
   "source": [
    "Now let's try to evaluate our trained network on these images. For that we have to first re-jig the pixel array we got from the `.gz` file into a numpy array format that the network expects. "
   ]
  },
  {
   "cell_type": "code",
   "execution_count": 38,
   "id": "ebcb1784",
   "metadata": {
    "id": "ebcb1784"
   },
   "outputs": [],
   "source": [
    "# convert image from .gz file (3 images, 500x500 pixels) to some format that the neural network understands\n",
    "def convert_pm(pm):\n",
    "    views = len(pm)\n",
    "    planes = pm.shape[1]\n",
    "    cells = pm.shape[2]\n",
    "    \n",
    "    X = [None]*views\n",
    "    for view in range(views):\n",
    "        X[view] = np.zeros((1, planes, cells, 1), dtype='float32')\n",
    "    for view in range(views):\n",
    "        X[view][0, :, :, :] = pm[view, :, :].reshape(planes, cells, 1)\n",
    "    return X"
   ]
  },
  {
   "cell_type": "code",
   "execution_count": 39,
   "id": "8bc28304",
   "metadata": {
    "id": "8bc28304"
   },
   "outputs": [
    {
     "name": "stderr",
     "output_type": "stream",
     "text": [
      "2022-09-15 04:15:35.350484: I tensorflow/core/platform/cpu_feature_guard.cc:142] This TensorFlow binary is optimized with oneAPI Deep Neural Network Library (oneDNN) to use the following CPU instructions in performance-critical operations:  AVX2 FMA\n",
      "To enable them in other operations, rebuild TensorFlow with the appropriate compiler flags.\n"
     ]
    }
   ],
   "source": [
    "# loads the already trained neural network model for evaluation\n",
    "def get_model(print_model=False): \n",
    "    with open('saved_model/model.json', 'r') as json_file:\n",
    "        loaded_model_json = json_file.read()\n",
    "        model = model_from_json(loaded_model_json)\n",
    "        model.load_weights('saved_model/weights.h5')\n",
    "\n",
    "    if(print_model):\n",
    "        model.summary()\n",
    "    return model\n",
    "model = get_model() # get the neural network model"
   ]
  },
  {
   "cell_type": "markdown",
   "id": "IUM8MMYIObmI",
   "metadata": {
    "id": "IUM8MMYIObmI"
   },
   "source": [
    "Let's try to print the results of the network evaluation along with the plot above for a nice summary on what's happening for each event. \n",
    "\n",
    "The following code also allows us to manipulate images in ways like : \n",
    "\n",
    "\n",
    "*   Flipping - flip the images horizontally and then evaluate the network\n",
    "*   TurnOff - Turning off one image out of the 3 and see how the network responds to having lesser information. \n",
    "\n",
    "But for now, we won't have to worry about this. \n",
    "\n"
   ]
  },
  {
   "cell_type": "code",
   "execution_count": 239,
   "id": "c568a8ce",
   "metadata": {
    "id": "c568a8ce"
   },
   "outputs": [],
   "source": [
    "# print results of network evaluation on input image\n",
    "def print_pminfo(pm, ID, flav):\n",
    "    print('Results of network evaluation on pixel map')\n",
    "    scores = model.predict(convert_pm(pm))\n",
    "    IDs, labels = get_labels(flav)\n",
    "    flav_score = np.max(scores[1], axis=1)\n",
    "    flav_pred = np.argmax(scores[1], axis=1)\n",
    "    print('CVN score for pred label : %f, True Label : %s, Pred Label : %s'%\n",
    "      (flav_score[0], flav_keys[labels[ID][1]], flav_keys[flav_pred[0]]))\n",
    "    print('CVN score for true label : ', scores[1][0][labels[ID][1]])\n",
    "    print('All scores :', scores[1])\n",
    "\n",
    "# draw image and also print results of network evaluation\n",
    "# flip = True, False (to flip each image horizontally)\n",
    "# turnoff = 0, 1 or 2 (to turn off particular images before evaluation)\n",
    "def show_pminfo(key, flav, flip=False, turnoff=None):\n",
    "    \n",
    "    pm = get_pixelmap(key, flav)\n",
    "    info = get_eventinfo(key, flav)\n",
    "    print('shape of image : ', pm.shape)\n",
    "    print('Drawing pixel map')\n",
    "    pm2 = pm\n",
    "    if flip:\n",
    "        #pm2 = np.empty(pm.shape, dtype=np.uint8)\n",
    "        # flips the image\n",
    "        for view in range(3):\n",
    "            pm2[view] = np.flip(pm[view], axis=1)\n",
    "            \n",
    "    if turnoff is not None:\n",
    "        assert (turnoff < 3 and turnoff >= 0), \"turnoff can only be 0, 1 or 2\"\n",
    "        pm2[turnoff] = np.zeros(pm[turnoff].shape, dtype=np.uint8)\n",
    "\n",
    "    draw_single_pm(pm2)\n",
    "    print_pminfo(pm2, key, flav)\n",
    "    print(\"Other info : \\n\", info)"
   ]
  },
  {
   "cell_type": "code",
   "execution_count": 240,
   "id": "d56b424d",
   "metadata": {
    "colab": {
     "base_uri": "https://localhost:8080/",
     "height": 692
    },
    "id": "d56b424d",
    "outputId": "be6d973a-ebf2-42c5-cbf6-db26a602a997"
   },
   "outputs": [
    {
     "name": "stderr",
     "output_type": "stream",
     "text": [
      "/Users/nitishnayak/for_alissa/cvn_venv/lib/python3.7/site-packages/ipykernel_launcher.py:6: DeprecationWarning: The binary mode of fromstring is deprecated, as it behaves surprisingly on unicode inputs. Use frombuffer instead\n",
      "  \n"
     ]
    },
    {
     "name": "stdout",
     "output_type": "stream",
     "text": [
      "shape of image :  (3, 500, 500)\n",
      "Drawing pixel map\n"
     ]
    },
    {
     "data": {
      "image/png": "[encoded data removed]",
      "text/plain": [
       "<Figure size 1080x720 with 3 Axes>"
      ]
     },
     "metadata": {
      "needs_background": "light"
     },
     "output_type": "display_data"
    },
    {
     "name": "stdout",
     "output_type": "stream",
     "text": [
      "Results of network evaluation on pixel map\n",
      "Reading dataset from serialized file...\n",
      "Loaded. Number of test examples for flavor nue : 200\n",
      "CVN score for pred label : 0.865901, True Label : nuecc, Pred Label : nuecc\n",
      "CVN score for true label :  0.8659007\n",
      "All scores : [[5.5007138e-05 8.6590070e-01 1.3390158e-01 1.4268338e-04]]\n",
      "Other info : \n",
      " {'NuPDG': 12, 'NuEnergy': 6.86561, 'LepEnergy': 4.0527, 'Interaction': 2, 'NProton': 0, 'NPion': 1, 'NPiZero': 0, 'NNeutron': 1, 'OscWeight': 0.970963}\n"
     ]
    }
   ],
   "source": [
    "show_pminfo('2', 'nue')"
   ]
  },
  {
   "cell_type": "markdown",
   "id": "cbfa8067",
   "metadata": {},
   "source": [
    "Here we have: \n",
    "\n",
    "\n",
    "*   The predicted label and the true label along with the \"likelihood\" score the network gives for its prediction\n",
    "*   In cases where the network gets it wrong, its also useful to see what the score was for the true label\n",
    "*   Finally, a list of all scores for each of the 4 labels"
   ]
  },
  {
   "cell_type": "markdown",
   "id": "b08195e0",
   "metadata": {},
   "source": [
    "First attempt to rotate images and evaluate impact on CVN. A bit dirty and doesn't handle all cases. Will update"
   ]
  },
  {
   "cell_type": "code",
   "execution_count": 201,
   "id": "2dbc0db9",
   "metadata": {},
   "outputs": [],
   "source": [
    "from math import *\n",
    "\n",
    "get_offset = lambda a: min(a)\n",
    "get_step = lambda a: abs(sorted(a)[1] - min(a))\n",
    "def get_index(val, step, offset, min_offset):\n",
    "    o = round(offset-min_offset)\n",
    "    steps = round((val-offset)/step)\n",
    "    return o+steps\n",
    "\n",
    "def rotate_pm(pm, angle):\n",
    "    X = []\n",
    "    Y = []\n",
    "    for i in range(500):\n",
    "        for j in range(500):\n",
    "            X.append(i*cos(angle) - j*sin(angle))\n",
    "            Y.append(i*sin(angle) + j*cos(angle))\n",
    "    stepX = get_step(X[::500])\n",
    "    stepY = get_step(Y[:500])\n",
    "    \n",
    "    offsetX = []\n",
    "    offsetY = []\n",
    "    for i in range(500):\n",
    "        offsetX.append(get_offset(X[i::500]))\n",
    "        offsetY.append(get_offset(Y[i*500:(i+1)*500]))\n",
    "    X_i = []\n",
    "    Y_i = []\n",
    "    minOx = min(offsetX)\n",
    "    minOy = min(offsetY)\n",
    "    for i in range(len(X)):\n",
    "        osetX = offsetX[i%500]\n",
    "        osetY = offsetY[i%500]\n",
    "        X_i.append(get_index(X[i], stepX, osetX, minOx))\n",
    "        Y_i.append(get_index(Y[i], stepY, osetY, minOy))\n",
    "    \n",
    "    pm2 = [None]*3\n",
    "    for i in range(3):\n",
    "        pm2[i] = np.zeros(pm[i].shape, dtype=np.uint8)\n",
    "    for i in range(len(X_i)):\n",
    "        if (X_i[i] >= 0) and (X_i[i] < 500):\n",
    "            if (Y_i[i] >=0) and (Y_i[i] < 500):\n",
    "                x = i // 500\n",
    "                y = i % 500\n",
    "                for view in range(3):\n",
    "                    #pm2[view][X_i[i], Y_i[i]] += pm[view][x, y]\n",
    "                    pm2[view][x, y] = pm[view][X_i[i], Y_i[i]]\n",
    "    return pm2"
   ]
  },
  {
   "cell_type": "code",
   "execution_count": 203,
   "id": "40e11c7f",
   "metadata": {},
   "outputs": [
    {
     "name": "stderr",
     "output_type": "stream",
     "text": [
      "/Users/nitishnayak/for_alissa/cvn_venv/lib/python3.7/site-packages/ipykernel_launcher.py:6: DeprecationWarning: The binary mode of fromstring is deprecated, as it behaves surprisingly on unicode inputs. Use frombuffer instead\n",
      "  \n"
     ]
    },
    {
     "data": {
      "image/png": "[encoded data removed]",
      "text/plain": [
       "<Figure size 1080x720 with 3 Axes>"
      ]
     },
     "metadata": {
      "needs_background": "light"
     },
     "output_type": "display_data"
    },
    {
     "data": {
      "text/plain": [
       "False"
      ]
     },
     "execution_count": 203,
     "metadata": {},
     "output_type": "execute_result"
    }
   ],
   "source": [
    "pm = get_pixelmap('0', 'nue')\n",
    "pm2 = rotate_pm(pm, pi/8)\n",
    "draw_single_pm(pm2)\n",
    "np.all(pm2 == pm)"
   ]
  },
  {
   "cell_type": "markdown",
   "id": "Vxlv-VcLPF-6",
   "metadata": {
    "id": "Vxlv-VcLPF-6"
   },
   "source": [
    "I encourage you to play around with the inputs and see what kind of results you get and try to get a feel for whether the network is behaving accurately and as intended and where its getting confused if at all. But we'll move on to evaluate the network performance more quantitatively. \n",
    "\n",
    "\n",
    "\n"
   ]
  },
  {
   "cell_type": "code",
   "execution_count": 32,
   "id": "kivrImAaMKTj",
   "metadata": {
    "id": "kivrImAaMKTj"
   },
   "outputs": [],
   "source": [
    "# function to get the predicted label for input event\n",
    "def get_pred(key, flav_event):\n",
    "    pm = get_pixelmap(key, flav_event)\n",
    "    scores = model.predict(convert_pm(pm))\n",
    "    flav_pred = np.argmax(scores[1], axis=1)[0]\n",
    "\n",
    "    return flav_pred\n",
    "\n",
    "# function to get the given label score for each event. \n",
    "# For eg, one can ask it to provide the nueCC score for an NC event and so on\n",
    "def get_flav_score(key, flav, flav_event):\n",
    "    tags = np.array(['numu', 'nue', 'nutau', 'nc'])\n",
    "    pm = get_pixelmap(key, flav_event)\n",
    "    scores = model.predict(convert_pm(pm))\n",
    "    flav_score = scores[1][0][np.where(tags == flav)[0][0]]\n",
    "\n",
    "    return flav_score"
   ]
  },
  {
   "cell_type": "markdown",
   "id": "v7SzsYxaQNvo",
   "metadata": {
    "id": "v7SzsYxaQNvo"
   },
   "source": [
    "Typically, the first set of numbers we look at in the test dataset are so-called confusion matrices. Essentially a matrix of `True Label` vs `Predicted Label` that tells us where the network gets things wrong and predominantly which label is the most confusing. Here we will ignore `nuTauCC` and just concentrate on `nueCC`, `numuCC` and `NC`"
   ]
  },
  {
   "cell_type": "code",
   "execution_count": 33,
   "id": "3s1ttutOQX35",
   "metadata": {
    "colab": {
     "base_uri": "https://localhost:8080/"
    },
    "id": "3s1ttutOQX35",
    "outputId": "25f13fd3-85ca-47f0-9df0-66337037ed16"
   },
   "outputs": [
    {
     "name": "stderr",
     "output_type": "stream",
     "text": [
      "/usr/local/lib/python3.7/dist-packages/ipykernel_launcher.py:6: DeprecationWarning: The binary mode of fromstring is deprecated, as it behaves surprisingly on unicode inputs. Use frombuffer instead\n",
      "  \n"
     ]
    }
   ],
   "source": [
    "confusion_mat = np.zeros((3,3), dtype=np.uint8)\n",
    "tags = ['numu', 'nue', 'nc']\n",
    "for f in range(3):\n",
    "  for i in range(100):\n",
    "    flav_pred = get_pred(str(i), tags[f])\n",
    "    if(flav_pred == 2) : continue\n",
    "    if(flav_pred == 3) : flav_pred = 2\n",
    "    confusion_mat[f][flav_pred] += 1"
   ]
  },
  {
   "cell_type": "markdown",
   "id": "7q0_gDXtQ1Cz",
   "metadata": {
    "id": "7q0_gDXtQ1Cz"
   },
   "source": [
    "Here, rows are given by True Label, columns by Predicted Label. So one reads this off as, for `100` true numuCC events, the network is able to predict `95` of them accurately. `1` out of `100` is predicted as `nueCC` and `4` as NC. Similarly, one can read off for the other rows as well. "
   ]
  },
  {
   "cell_type": "code",
   "execution_count": 34,
   "id": "1MWZkRdGQ4U9",
   "metadata": {
    "colab": {
     "base_uri": "https://localhost:8080/"
    },
    "id": "1MWZkRdGQ4U9",
    "outputId": "ad2799b7-81e1-4019-b71e-97054005fba2"
   },
   "outputs": [
    {
     "name": "stdout",
     "output_type": "stream",
     "text": [
      "[[95  1  4]\n",
      " [ 0 98  2]\n",
      " [ 3  4 90]]\n"
     ]
    }
   ],
   "source": [
    "print(confusion_mat)"
   ]
  },
  {
   "cell_type": "markdown",
   "id": "mzEdwI0ORMDZ",
   "metadata": {
    "id": "mzEdwI0ORMDZ"
   },
   "source": [
    "We can normalize them by row to get an \"efficiency\" matrix. Also referred to as \"Sensitivity\" in other fields. Essentially, for given true label, we ask what fraction is predicted as signal or other background channels. "
   ]
  },
  {
   "cell_type": "code",
   "execution_count": 35,
   "id": "lbU5E-d5Q5zt",
   "metadata": {
    "colab": {
     "base_uri": "https://localhost:8080/"
    },
    "id": "lbU5E-d5Q5zt",
    "outputId": "ee21fdce-9fad-471f-8af1-7bea6bb3c521"
   },
   "outputs": [
    {
     "name": "stdout",
     "output_type": "stream",
     "text": [
      "[[0.95       0.01       0.04      ]\n",
      " [0.         0.98       0.02      ]\n",
      " [0.03092784 0.04123711 0.92783505]]\n"
     ]
    }
   ],
   "source": [
    "eff_mat = confusion_mat/confusion_mat.sum(axis=1,keepdims=True)\n",
    "print(eff_mat)"
   ]
  },
  {
   "cell_type": "markdown",
   "id": "D0cpdK8jRuVC",
   "metadata": {
    "id": "D0cpdK8jRuVC"
   },
   "source": [
    "The other side of this is a \"purity\" matrix. Or \"Specificity\". Essentially, for a given predicted label, we ask what fraction is actually signal or other background. Sometimes a network can get very good efficiency by predicting a particular label all the time, but that's not a good thing and this metric is designed to catch that. So for eg, we see that the network is able to predict `98%` of `nueCC` accurately and also `95%` of events that it predicts as `nueCC` are actually `nueCC`. "
   ]
  },
  {
   "cell_type": "code",
   "execution_count": 36,
   "id": "QJH9CJ3UUOln",
   "metadata": {
    "colab": {
     "base_uri": "https://localhost:8080/"
    },
    "id": "QJH9CJ3UUOln",
    "outputId": "9a76f260-ef5c-4875-836e-db9cb3753984"
   },
   "outputs": [
    {
     "name": "stdout",
     "output_type": "stream",
     "text": [
      "[[0.96938776 0.00970874 0.04166667]\n",
      " [0.         0.95145631 0.02083333]\n",
      " [0.03061224 0.03883495 0.9375    ]]\n"
     ]
    }
   ],
   "source": [
    "pur_mat = confusion_mat/confusion_mat.sum(axis=0,keepdims=True)\n",
    "print(pur_mat)"
   ]
  },
  {
   "cell_type": "markdown",
   "id": "jrstKE8KShVJ",
   "metadata": {
    "id": "jrstKE8KShVJ"
   },
   "source": [
    "We can visualize these numbers better in the following plots. Highly diagonal matrices are a sign that the network is able to generalize to a test dataset (made up of events that it has never seen) pretty well. "
   ]
  },
  {
   "cell_type": "code",
   "execution_count": 37,
   "id": "AJlP4BkPU3Fn",
   "metadata": {
    "colab": {
     "base_uri": "https://localhost:8080/",
     "height": 621
    },
    "id": "AJlP4BkPU3Fn",
    "outputId": "577bff03-adfe-488b-e1ca-d4be9109c1d5"
   },
   "outputs": [
    {
     "data": {
      "image/png": "[encoded data removed]",
      "text/plain": [
       "<Figure size 720x720 with 1 Axes>"
      ]
     },
     "metadata": {
      "needs_background": "light"
     },
     "output_type": "display_data"
    }
   ],
   "source": [
    "fig, ax = plt.subplots(figsize=(10, 10))\n",
    "im = ax.imshow(eff_mat, interpolation=None)\n",
    "\n",
    "ax.set_xticks(np.arange(len(tags)))\n",
    "ax.set_xticklabels(tags)\n",
    "ax.set_ylabel('True Label')\n",
    "ax.set_xlabel('Pred Label')\n",
    "ax.set_yticks(np.arange(len(tags)))\n",
    "ax.set_yticklabels(tags)\n",
    "for i in range(len(tags)):\n",
    "  for j in range(len(tags)):\n",
    "    text = ax.text(j, i, round(eff_mat[i, j], 2), ha='center', va='center', color='r')\n",
    "\n",
    "plt.title('Efficiency by Label')\n",
    "plt.show()"
   ]
  },
  {
   "cell_type": "code",
   "execution_count": 38,
   "id": "r3rjzhxoW1kW",
   "metadata": {
    "colab": {
     "base_uri": "https://localhost:8080/",
     "height": 621
    },
    "id": "r3rjzhxoW1kW",
    "outputId": "d2f10681-6a63-43f6-febc-77795fa922a3"
   },
   "outputs": [
    {
     "data": {
      "image/png": "[encoded data removed]",
      "text/plain": [
       "<Figure size 720x720 with 1 Axes>"
      ]
     },
     "metadata": {
      "needs_background": "light"
     },
     "output_type": "display_data"
    }
   ],
   "source": [
    "fig, ax = plt.subplots(figsize=(10, 10))\n",
    "im = ax.imshow(pur_mat, interpolation=None)\n",
    "\n",
    "ax.set_xticks(np.arange(len(tags)))\n",
    "ax.set_xticklabels(tags)\n",
    "ax.set_ylabel('True Label')\n",
    "ax.set_xlabel('Pred Label')\n",
    "ax.set_yticks(np.arange(len(tags)))\n",
    "ax.set_yticklabels(tags)\n",
    "for i in range(len(tags)):\n",
    "  for j in range(len(tags)):\n",
    "    text = ax.text(j, i, round(pur_mat[i, j], 2), ha='center', va='center', color='r')\n",
    "\n",
    "plt.title('Purity by Label')\n",
    "plt.show()"
   ]
  },
  {
   "cell_type": "markdown",
   "id": "uT2Z-rnGSxbI",
   "metadata": {
    "id": "uT2Z-rnGSxbI"
   },
   "source": [
    "Let's try to plot some histograms of the network scores to see how much its able to separate signal and background. Here we will look at only `nueCC` scores but as homework, one can make similar plots for `numuCC` and `NC` scores as well. "
   ]
  },
  {
   "cell_type": "code",
   "execution_count": 39,
   "id": "6ZH2ECMKYpyS",
   "metadata": {
    "colab": {
     "base_uri": "https://localhost:8080/"
    },
    "id": "6ZH2ECMKYpyS",
    "outputId": "8dd69c12-c3fd-4bb2-9cf6-d69a7cab16e2"
   },
   "outputs": [
    {
     "name": "stderr",
     "output_type": "stream",
     "text": [
      "/usr/local/lib/python3.7/dist-packages/ipykernel_launcher.py:6: DeprecationWarning: The binary mode of fromstring is deprecated, as it behaves surprisingly on unicode inputs. Use frombuffer instead\n",
      "  \n"
     ]
    }
   ],
   "source": [
    "# loop over events and append nueCC scores based on whether its signal or background\n",
    "sig_scores = []\n",
    "numu_scores = []\n",
    "nc_scores = []\n",
    "tags = ['numu', 'nue', 'nc']\n",
    "for f in range(3):\n",
    "  for i in range(100):\n",
    "    flav_score = get_flav_score(str(i), 'nue', tags[f])\n",
    "    if(f == 1): sig_scores.append(flav_score)\n",
    "    if(f == 0): numu_scores.append(flav_score)\n",
    "    if(f == 2): nc_scores.append(flav_score)"
   ]
  },
  {
   "cell_type": "code",
   "execution_count": 40,
   "id": "nDmaBJjSbGAf",
   "metadata": {
    "colab": {
     "base_uri": "https://localhost:8080/",
     "height": 606
    },
    "id": "nDmaBJjSbGAf",
    "outputId": "6ec536fe-da41-4dc3-d368-e8dbc2ac588b"
   },
   "outputs": [
    {
     "data": {
      "image/png": "[encoded data removed]",
      "text/plain": [
       "<Figure size 720x720 with 1 Axes>"
      ]
     },
     "metadata": {
      "needs_background": "light"
     },
     "output_type": "display_data"
    }
   ],
   "source": [
    "# make the plot\n",
    "b = np.arange(0, 1.05, 0.05)\n",
    "fig, ax = plt.subplots(figsize=(10, 10))\n",
    "ax.hist(np.array(sig_scores), bins=b, histtype='step',color='red',linestyle='solid',label='Signal nueCC')\n",
    "ax.hist(np.array(numu_scores), bins=b, histtype='step',color='blue',linestyle='solid',label='NumuCC Bkg')\n",
    "ax.hist(np.array(nc_scores), bins=b, histtype='step',color='green',linestyle='solid',label='NC Bkg')\n",
    "ax.hist(np.array(nc_scores+numu_scores), bins=b, histtype='step',color='black',linestyle='solid',label='Total Bkg')\n",
    "ax.legend(loc='best')\n",
    "ax.set_ylabel('Events')\n",
    "ax.set_xlabel('CNN Score')\n",
    "plt.show()"
   ]
  },
  {
   "cell_type": "markdown",
   "id": "6MFnDfh2TPgL",
   "metadata": {
    "id": "6MFnDfh2TPgL"
   },
   "source": [
    "This shows that in terms of the `nueCC` scores, the true `nueCC` events peak near 1 while the background peaks near 0. This shows that the network is behaving appropriately and is able to distinguish signal and background. The better the separation in this plot, the better the performance. "
   ]
  },
  {
   "cell_type": "markdown",
   "id": "9T_PF_7ATjV9",
   "metadata": {
    "id": "9T_PF_7ATjV9"
   },
   "source": [
    "We can even try to quantify the separation using a \"ROC\" Curve. \n",
    "\n",
    "\n",
    "*   ROC - Receiver Operating Characteristic \n",
    "\n",
    "Essentially, it scans across the CNN scores and at each point gathers the fraction of background selected and the fraction of signal selected. Then, it just plots them together. It's instructive to compare this to an extremely dumb classifier which just predicts everything as nueCC without any skill, no matter which event is thrown at it. \n",
    "\n",
    "\n"
   ]
  },
  {
   "cell_type": "code",
   "execution_count": 41,
   "id": "mb65ZyTccHJT",
   "metadata": {
    "colab": {
     "base_uri": "https://localhost:8080/",
     "height": 639
    },
    "id": "mb65ZyTccHJT",
    "outputId": "e9378fbc-6305-461f-cc06-e06444a88ce8"
   },
   "outputs": [
    {
     "data": {
      "image/png": "[encoded data removed]",
      "text/plain": [
       "<Figure size 720x720 with 1 Axes>"
      ]
     },
     "metadata": {
      "needs_background": "light"
     },
     "output_type": "display_data"
    },
    {
     "name": "stdout",
     "output_type": "stream",
     "text": [
      "AUC scores for (CNN, No Skill) : 0.998, 0.500\n"
     ]
    }
   ],
   "source": [
    "from sklearn.metrics import roc_curve\n",
    "from sklearn.metrics import roc_auc_score\n",
    "\n",
    "lr_fpr, lr_tpr, _ = roc_curve(200*[0] + 100*[1], numu_scores+nc_scores+sig_scores)\n",
    "ns_fpr, ns_tpr, _ = roc_curve(200*[0] + 100*[1], 300*[1])\n",
    "fig, ax = plt.subplots(figsize=(10, 10))\n",
    "ax.plot(lr_fpr, lr_tpr, marker='.', label='CNN for NueCC')\n",
    "ax.plot(ns_fpr, ns_tpr, marker='.', label='No Skill')\n",
    "ax.legend(loc='best')\n",
    "ax.set_title('ROC Curve')\n",
    "ax.set_xlabel('Background Efficiency')\n",
    "ax.set_ylabel('Signal Efficiency')\n",
    "plt.show()\n",
    "lr_auc = roc_auc_score(200*[0] + 100*[1], numu_scores+nc_scores+sig_scores)\n",
    "ns_auc = roc_auc_score(200*[0] + 100*[1], 300*[1])\n",
    "print('AUC scores for (CNN, No Skill) : %0.03f, %0.03f'%(lr_auc, ns_auc))"
   ]
  },
  {
   "cell_type": "markdown",
   "id": "AhQLoecXUg9Q",
   "metadata": {
    "id": "AhQLoecXUg9Q"
   },
   "source": [
    "One can clearly see that the CNN is obviously far superior to the \"No Skill\" network that just predicts `nueCC` all the time. The way to quantify this better is to estimate the \"Area under the Curve\" (AUC) which is one of many possible metrics. The \"No Skill\" one has an AUC of 0.5 while a CNN has an AUC of 0.998. \n",
    "\n",
    "A perfect network will have an AUC of exactly 1, so we can see our CNN is actually very very good! (Of course, there's some influence here of limited statistics, but point still stands.)\n",
    "\n",
    "One can develop a different network and also compare with this CNN and the No Skill network to see how it performs. The AUC is one metric that can tell us which network is better."
   ]
  },
  {
   "cell_type": "code",
   "execution_count": null,
   "id": "tv_TIs-OVN-M",
   "metadata": {
    "id": "tv_TIs-OVN-M"
   },
   "outputs": [],
   "source": []
  }
 ],
 "metadata": {
  "colab": {
   "name": "dune_cvn_nusteam.ipynb",
   "provenance": []
  },
  "kernelspec": {
   "display_name": "Python 3 (ipykernel)",
   "language": "python",
   "name": "python3"
  },
  "language_info": {
   "codemirror_mode": {
    "name": "ipython",
    "version": 3
   },
   "file_extension": ".py",
   "mimetype": "text/x-python",
   "name": "python",
   "nbconvert_exporter": "python",
   "pygments_lexer": "ipython3",
   "version": "3.7.13"
  }
 },
 "nbformat": 4,
 "nbformat_minor": 5
}
