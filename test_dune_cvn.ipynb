{
 "cells": [
  {
   "cell_type": "code",
   "execution_count": 1,
   "id": "9076ef58",
   "metadata": {},
   "outputs": [],
   "source": [
    "from utils import *"
   ]
  },
  {
   "cell_type": "code",
   "execution_count": 2,
   "id": "cd68f95f",
   "metadata": {},
   "outputs": [],
   "source": [
    "# some useful variables for our code\n",
    "test_values = []\n",
    "TEST_PARAMS = {'batch_size':1, #batch size for network evaluation (model.predict)\n",
    "               'images_path':'dataset', # folder where all the images lie\n",
    "               'shuffle':False, # whether we want to shuffle the files (doesn't matter for us)\n",
    "               'test_values':test_values} "
   ]
  },
  {
   "cell_type": "code",
   "execution_count": 3,
   "id": "9e21a555",
   "metadata": {},
   "outputs": [
    {
     "name": "stdout",
     "output_type": "stream",
     "text": [
      "Reading dataset from serialized file...\n",
      "Loaded. Number of test examples: %d 20\n"
     ]
    }
   ],
   "source": [
    "# load dataset into IDs, labels\n",
    "print('Reading dataset from serialized file...')\n",
    "with open('dataset/partition.p', 'rb') as partition_file:\n",
    "    IDs, labels = pk.load(partition_file)\n",
    "print('Loaded. Number of test examples: %d', len(IDs))"
   ]
  },
  {
   "cell_type": "code",
   "execution_count": 4,
   "id": "45317575",
   "metadata": {},
   "outputs": [
    {
     "name": "stdout",
     "output_type": "stream",
     "text": [
      "['0', '1', '2', '3', '4', '5', '6', '7', '8', '9', '10', '11', '12', '13', '14', '15', '16', '17', '18', '19']\n"
     ]
    }
   ],
   "source": [
    "print(IDs) # list of strings (strings involve characters inside single quotes or double quotes)"
   ]
  },
  {
   "cell_type": "code",
   "execution_count": 5,
   "id": "d8a5d6f3",
   "metadata": {},
   "outputs": [
    {
     "name": "stdout",
     "output_type": "stream",
     "text": [
      "{'0': [0, 1, 2, 3, 0, 2, 0], '1': [-1, 3, -1, 1, 1, 0, 0], '2': [1, 0, 2, 0, 2, 0, 0], '3': [0, 0, 0, 0, 0, 0, 0], '4': [-1, 3, -1, 0, 0, 1, 0], '5': [0, 1, 2, 3, 0, 1, 0], '6': [1, 1, 2, 1, 0, 0, 0], '7': [1, 1, 1, 1, 0, 0, 0], '8': [1, 1, 3, 0, 0, 0, 0], '9': [1, 1, 2, 0, 1, 0, 0], '10': [-1, 3, -1, 0, 0, 1, 0], '11': [0, 1, 1, 2, 1, 0, 0], '12': [0, 0, 2, 0, 3, 2, 0], '13': [-1, 3, -1, 1, 0, 1, 0], '14': [0, 0, 3, 0, 0, 0, 0], '15': [0, 2, 2, 3, 3, 2, 0], '16': [1, 2, 1, 0, 1, 1, 0], '17': [0, 1, 1, 1, 0, 1, 0], '18': [-1, 3, -1, 0, 0, 1, 0], '19': [0, 2, 2, 0, 3, 3, 0]}\n"
     ]
    }
   ],
   "source": [
    "print(labels) # dictionary which is an \"array\" of key, value pairs. we need this as a look-up table. "
   ]
  },
  {
   "cell_type": "code",
   "execution_count": 44,
   "id": "d9d1fdcf",
   "metadata": {},
   "outputs": [
    {
     "name": "stdout",
     "output_type": "stream",
     "text": [
      "[-1, 3, -1, 1, 1, 0, 0]\n"
     ]
    }
   ],
   "source": [
    "# lookup value for key = '1'\n",
    "print(labels['1'])"
   ]
  },
  {
   "cell_type": "code",
   "execution_count": 14,
   "id": "b84711c9",
   "metadata": {},
   "outputs": [],
   "source": [
    "import zlib\n",
    "# function -- give it some inputs (\"arguments\") and return an output\n",
    "# this function reads the .gz image file given an argument like '0' or '1' or '2' and so on\n",
    "def get_pixelmap(key): # with a default value\n",
    "    path = TEST_PARAMS['images_path']\n",
    "    print('Key : ', key)\n",
    "    print('Path : ', path)\n",
    "    print('location : ', path+'/event'+key+'.gz')\n",
    "    with open(path+'/event'+key+'.gz', 'rb') as image_file:\n",
    "        pixels = np.fromstring(zlib.decompress(image_file.read()), dtype=np.uint8, sep='').reshape(3, 500, 500)\n",
    "        return pixels"
   ]
  },
  {
   "cell_type": "code",
   "execution_count": 23,
   "id": "cd23526d",
   "metadata": {},
   "outputs": [
    {
     "name": "stdout",
     "output_type": "stream",
     "text": [
      "Key :  0\n",
      "Path :  dataset\n",
      "location :  dataset/event0.gz\n"
     ]
    },
    {
     "name": "stderr",
     "output_type": "stream",
     "text": [
      "/Users/nitishnayak/for_alissa/cvn_venv/lib/python3.7/site-packages/ipykernel_launcher.py:9: DeprecationWarning: The binary mode of fromstring is deprecated, as it behaves surprisingly on unicode inputs. Use frombuffer instead\n",
      "  if __name__ == \"__main__\":\n"
     ]
    },
    {
     "data": {
      "text/plain": [
       "array([[[0, 0, 0, ..., 0, 0, 0],\n",
       "        [0, 0, 0, ..., 0, 0, 0],\n",
       "        [0, 0, 0, ..., 0, 0, 0],\n",
       "        ...,\n",
       "        [0, 0, 0, ..., 0, 0, 0],\n",
       "        [0, 0, 0, ..., 0, 0, 0],\n",
       "        [0, 0, 0, ..., 0, 0, 0]],\n",
       "\n",
       "       [[0, 0, 0, ..., 0, 0, 0],\n",
       "        [0, 0, 0, ..., 0, 0, 0],\n",
       "        [0, 0, 0, ..., 0, 0, 0],\n",
       "        ...,\n",
       "        [0, 0, 0, ..., 0, 0, 0],\n",
       "        [0, 0, 0, ..., 0, 0, 0],\n",
       "        [0, 0, 0, ..., 0, 0, 0]],\n",
       "\n",
       "       [[0, 0, 0, ..., 0, 0, 0],\n",
       "        [0, 0, 0, ..., 0, 0, 0],\n",
       "        [0, 0, 0, ..., 0, 0, 0],\n",
       "        ...,\n",
       "        [0, 0, 0, ..., 0, 0, 0],\n",
       "        [0, 0, 0, ..., 0, 0, 0],\n",
       "        [0, 0, 0, ..., 0, 0, 0]]], dtype=uint8)"
      ]
     },
     "execution_count": 23,
     "metadata": {},
     "output_type": "execute_result"
    }
   ],
   "source": [
    "get_pixelmap('0') # calling this function"
   ]
  },
  {
   "cell_type": "code",
   "execution_count": 16,
   "id": "d5c77c43",
   "metadata": {},
   "outputs": [],
   "source": [
    "import matplotlib.pylab as plt\n",
    "\n",
    "# useful variable which we use in the code later on\n",
    "flav_keys=['numucc', 'nuecc', 'nutaucc', 'NC']\n",
    "# function meant to draw an image. Input here is the image that we obtain from the previous function get_pixelmap\n",
    "def draw_single_pm(pm, pred=None, flav_label=None, flav_pred=None):\n",
    "    fig, axs = plt.subplots(1, 3, figsize=(15, 10))\n",
    "    fig.suptitle('Pixel Maps')        \n",
    "    titles = ['U', 'V', 'Z']\n",
    "    for i in range(3):\n",
    "        maps = np.swapaxes(pm[i], 0, 1)\n",
    "        axs[i].imshow(maps, interpolation='none', cmap='cool')\n",
    "        axs[i].set_xlabel('Wire')\n",
    "        axs[i].set_ylabel('TDC')\n",
    "        axs[i].title.set_text(titles[i])\n",
    "    plt.show()"
   ]
  },
  {
   "cell_type": "code",
   "execution_count": 27,
   "id": "ebcb1784",
   "metadata": {},
   "outputs": [],
   "source": [
    "# convert image from .gz file (3 images, 500x500 pixels) to some format that the neural network understands\n",
    "def convert_pm(pm):\n",
    "    views = len(pm)\n",
    "    planes = pm.shape[1]\n",
    "    cells = pm.shape[2]\n",
    "    \n",
    "    X = [None]*views\n",
    "    for view in range(views):\n",
    "        X[view] = np.empty((1, planes, cells, 1), dtype='float32')\n",
    "    for view in range(views):\n",
    "        X[view][0, :, :, :] = pm[view, :, :].reshape(planes, cells, 1)\n",
    "    return X"
   ]
  },
  {
   "cell_type": "code",
   "execution_count": 28,
   "id": "8bc28304",
   "metadata": {},
   "outputs": [],
   "source": [
    "# loads the already trained neural network model for evaluation\n",
    "def get_model(print_model=False): \n",
    "    with open('saved_model/model.json', 'r') as json_file:\n",
    "        loaded_model_json = json_file.read()\n",
    "        model = model_from_json(loaded_model_json)\n",
    "        model.load_weights('saved_model/weights.h5')\n",
    "\n",
    "    if(print_model):\n",
    "        model.summary()\n",
    "    return model"
   ]
  },
  {
   "cell_type": "code",
   "execution_count": 25,
   "id": "fdacb295",
   "metadata": {},
   "outputs": [
    {
     "name": "stderr",
     "output_type": "stream",
     "text": [
      "2022-06-23 16:17:59.178933: I tensorflow/core/platform/cpu_feature_guard.cc:142] This TensorFlow binary is optimized with oneAPI Deep Neural Network Library (oneDNN) to use the following CPU instructions in performance-critical operations:  AVX2 FMA\n",
      "To enable them in other operations, rebuild TensorFlow with the appropriate compiler flags.\n"
     ]
    }
   ],
   "source": [
    "model = get_model() # get the neural network model"
   ]
  },
  {
   "cell_type": "code",
   "execution_count": 76,
   "id": "cd4af62e",
   "metadata": {},
   "outputs": [],
   "source": [
    "# print results of network evaluation on input image\n",
    "def print_pminfo(pm, ID):\n",
    "    print('Results of network evaluation on pixel map')\n",
    "    scores = model.predict(convert_pm(pm))\n",
    "    flav_score = np.max(scores[1], axis=1)\n",
    "    flav_pred = np.argmax(scores[1], axis=1)\n",
    "    print('CVN score for pred label : %f, True Label : %s, Pred Label : %s'%\n",
    "      (flav_score[0], flav_keys[labels[ID][1]], flav_keys[flav_pred[0]]))\n",
    "    print('CVN score for true label : ', scores[1][0][labels[ID][1]])\n",
    "    print('All scores :', scores[1])\n",
    "\n",
    "# draw image and also print results of network evaluation\n",
    "# flip = True, False (to flip each image horizontally)\n",
    "# turnoff = 0, 1 or 2 (to turn off particular images before evaluation)\n",
    "def show_pminfo(key, flip=False, turnoff=None):\n",
    "    \n",
    "    pm = get_pixelmap(key)\n",
    "    print('shape of image : ', pm.shape)\n",
    "    print('Drawing pixel map')\n",
    "    \n",
    "    if flip:\n",
    "        pm2 = np.empty(pm.shape, dtype='float32')\n",
    "        # flips the image\n",
    "        for view in range(3):\n",
    "            pm2[view] = np.flip(pm[view], axis=1)\n",
    "        pm = pm2\n",
    "    if turnoff is not None:\n",
    "        assert (turnoff < 3 and turnoff >= 0), \"turnoff can only be 0, 1 or 2\"\n",
    "        pm[turnoff] = np.empty(pm[turnoff].shape, dtype='float32')\n",
    "    \n",
    "    draw_single_pm(pm)\n",
    "    print_pminfo(pm, key)"
   ]
  },
  {
   "cell_type": "code",
   "execution_count": 78,
   "id": "3e35a6c8",
   "metadata": {},
   "outputs": [
    {
     "name": "stdout",
     "output_type": "stream",
     "text": [
      "Key :  0\n",
      "Path :  dataset\n",
      "location :  dataset/event0.gz\n",
      "shape of image :  (3, 500, 500)\n",
      "Drawing pixel map\n"
     ]
    },
    {
     "name": "stderr",
     "output_type": "stream",
     "text": [
      "/Users/nitishnayak/for_alissa/cvn_venv/lib/python3.7/site-packages/ipykernel_launcher.py:9: DeprecationWarning: The binary mode of fromstring is deprecated, as it behaves surprisingly on unicode inputs. Use frombuffer instead\n",
      "  if __name__ == \"__main__\":\n"
     ]
    },
    {
     "data": {
      "image/png": "[encoded data removed]",
      "text/plain": [
       "<Figure size 1080x720 with 3 Axes>"
      ]
     },
     "metadata": {
      "needs_background": "light"
     },
     "output_type": "display_data"
    },
    {
     "name": "stdout",
     "output_type": "stream",
     "text": [
      "Results of network evaluation on pixel map\n",
      "CVN score for pred label : 0.664962, True Label : nuecc, Pred Label : NC\n",
      "CVN score for true label :  0.26845634\n",
      "All scores : [[0.01141644 0.26845634 0.05516541 0.6649618 ]]\n"
     ]
    }
   ],
   "source": [
    "show_pminfo('0', False, turnoff=1)"
   ]
  },
  {
   "cell_type": "code",
   "execution_count": 39,
   "id": "f868dbf2",
   "metadata": {},
   "outputs": [],
   "source": [
    "# from here on out, we play around with these functions in various ways -- old code, can ignore for now\n",
    "ID = '0'"
   ]
  },
  {
   "cell_type": "code",
   "execution_count": 21,
   "id": "f13d62fc",
   "metadata": {},
   "outputs": [
    {
     "name": "stdout",
     "output_type": "stream",
     "text": [
      "Key :  10\n",
      "Path :  dataset\n",
      "location :  dataset/event10.gz\n",
      "(3, 500, 500)\n"
     ]
    },
    {
     "name": "stderr",
     "output_type": "stream",
     "text": [
      "/Users/nitishnayak/for_alissa/cvn_venv/lib/python3.7/site-packages/ipykernel_launcher.py:9: DeprecationWarning: The binary mode of fromstring is deprecated, as it behaves surprisingly on unicode inputs. Use frombuffer instead\n",
      "  if __name__ == \"__main__\":\n"
     ]
    }
   ],
   "source": [
    "pm = get_pixelmap(ID)\n",
    "print(pm.shape)"
   ]
  },
  {
   "cell_type": "code",
   "execution_count": 22,
   "id": "3a298e70",
   "metadata": {},
   "outputs": [
    {
     "data": {
      "image/png": "[encoded data removed]",
      "text/plain": [
       "<Figure size 1080x720 with 3 Axes>"
      ]
     },
     "metadata": {
      "needs_background": "light"
     },
     "output_type": "display_data"
    },
    {
     "data": {
      "text/plain": [
       "'NC'"
      ]
     },
     "execution_count": 22,
     "metadata": {},
     "output_type": "execute_result"
    }
   ],
   "source": [
    "draw_single_pm(pm)\n",
    "flav_keys[labels[ID][1]]"
   ]
  },
  {
   "cell_type": "code",
   "execution_count": 36,
   "id": "4568e500",
   "metadata": {},
   "outputs": [
    {
     "name": "stdout",
     "output_type": "stream",
     "text": [
      "Key :  10\n",
      "Path :  dataset\n",
      "location :  dataset/event10.gz\n"
     ]
    },
    {
     "name": "stderr",
     "output_type": "stream",
     "text": [
      "/Users/nitishnayak/for_alissa/cvn_venv/lib/python3.7/site-packages/ipykernel_launcher.py:9: DeprecationWarning: The binary mode of fromstring is deprecated, as it behaves surprisingly on unicode inputs. Use frombuffer instead\n",
      "  if __name__ == \"__main__\":\n"
     ]
    },
    {
     "name": "stdout",
     "output_type": "stream",
     "text": [
      "CVN score : 0.997898, True Label : NC, Pred Label : NC\n"
     ]
    },
    {
     "data": {
      "image/png": "[encoded data removed]",
      "text/plain": [
       "<Figure size 1080x720 with 3 Axes>"
      ]
     },
     "metadata": {
      "needs_background": "light"
     },
     "output_type": "display_data"
    }
   ],
   "source": [
    "pm = get_pixelmap(ID)\n",
    "scores = model.predict(convert_pm(pm))\n",
    "flav_score = np.max(scores[1], axis=1)\n",
    "flav_pred = np.argmax(scores[1], axis=1)\n",
    "print('CVN score : %f, True Label : %s, Pred Label : %s'%\n",
    "      (flav_score[0], flav_keys[labels[ID][1]], flav_keys[flav_pred[0]]))\n",
    "draw_single_pm(pm)"
   ]
  },
  {
   "cell_type": "code",
   "execution_count": 35,
   "id": "1bc8f1c1",
   "metadata": {},
   "outputs": [
    {
     "name": "stdout",
     "output_type": "stream",
     "text": [
      "Key :  10\n",
      "Path :  dataset\n",
      "location :  dataset/event10.gz\n"
     ]
    },
    {
     "name": "stderr",
     "output_type": "stream",
     "text": [
      "/Users/nitishnayak/for_alissa/cvn_venv/lib/python3.7/site-packages/ipykernel_launcher.py:9: DeprecationWarning: The binary mode of fromstring is deprecated, as it behaves surprisingly on unicode inputs. Use frombuffer instead\n",
      "  if __name__ == \"__main__\":\n"
     ]
    },
    {
     "name": "stdout",
     "output_type": "stream",
     "text": [
      "[[5.6553796e-05 1.8750564e-03 1.7084886e-04 9.9789751e-01]]\n",
      "Predicted :  NC\n",
      "True :  NC\n"
     ]
    }
   ],
   "source": [
    "pm = get_pixelmap(ID)\n",
    "scores = model.predict(convert_pm(pm))\n",
    "print(scores[1])\n",
    "print('Predicted : ', flav_keys[np.argmax(scores[1])])\n",
    "print('True : ', flav_keys[labels[ID][1]])"
   ]
  },
  {
   "cell_type": "code",
   "execution_count": 62,
   "id": "348810b3",
   "metadata": {},
   "outputs": [
    {
     "data": {
      "text/plain": [
       "array([[8.8225851e+00, 8.4441621e-04, 1.7875150e-01, 9.9781865e-01]],\n",
       "      dtype=float32)"
      ]
     },
     "execution_count": 62,
     "metadata": {},
     "output_type": "execute_result"
    }
   ],
   "source": [
    "scores[1]*10."
   ]
  },
  {
   "cell_type": "code",
   "execution_count": 38,
   "id": "89e00870",
   "metadata": {},
   "outputs": [
    {
     "name": "stdout",
     "output_type": "stream",
     "text": [
      "CVN score : 0.999569, True Label : NC, Pred Label : NC\n"
     ]
    },
    {
     "data": {
      "image/png": "[encoded data removed]",
      "text/plain": [
       "<Figure size 1080x720 with 3 Axes>"
      ]
     },
     "metadata": {
      "needs_background": "light"
     },
     "output_type": "display_data"
    }
   ],
   "source": [
    "pm2 = np.empty(pm.shape, dtype='float32')\n",
    "# flips the image\n",
    "for view in range(3):\n",
    "    pm2[view] = np.flip(pm[view], axis=1)\n",
    "#pm[2] = np.empty((500, 500), dtype='')\n",
    "scores2 = model.predict(convert_pm(pm2))\n",
    "flav_score2 = np.max(scores2[1], axis=1)\n",
    "flav_pred2 = np.argmax(scores2[1], axis=1)\n",
    "print('CVN score : %f, True Label : %s, Pred Label : %s'%\n",
    "      (flav_score2[0], flav_keys[labels[ID][1]], flav_keys[flav_pred2[0]]))\n",
    "draw_single_pm(pm2)"
   ]
  },
  {
   "cell_type": "code",
   "execution_count": null,
   "id": "2bb7dfde",
   "metadata": {},
   "outputs": [],
   "source": []
  }
 ],
 "metadata": {
  "kernelspec": {
   "display_name": "Python 3 (ipykernel)",
   "language": "python",
   "name": "python3"
  },
  "language_info": {
   "codemirror_mode": {
    "name": "ipython",
    "version": 3
   },
   "file_extension": ".py",
   "mimetype": "text/x-python",
   "name": "python",
   "nbconvert_exporter": "python",
   "pygments_lexer": "ipython3",
   "version": "3.7.13"
  }
 },
 "nbformat": 4,
 "nbformat_minor": 5
}
